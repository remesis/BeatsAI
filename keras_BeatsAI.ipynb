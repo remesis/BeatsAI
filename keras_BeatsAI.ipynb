{
  "cells": [
    {
      "cell_type": "code",
      "execution_count": null,
      "metadata": {
        "id": "CSimKm4TU53f"
      },
      "outputs": [],
      "source": [
        "import os\n",
        "import pandas as pd\n",
        "import numpy as np\n",
        "import IPython.display as ipd\n",
        "import librosa\n",
        "import librosa.display\n",
        "import matplotlib.pyplot as plt"
      ]
    },
    {
      "cell_type": "code",
      "execution_count": null,
      "metadata": {
        "id": "phTQ1UcrVxo-"
      },
      "outputs": [],
      "source": [
        "csvPath = '/content/drive/MyDrive/Data/features_30_sec.csv'\n",
        "audio_dir = '/content/drive/MyDrive/Data/genres_original'"
      ]
    },
    {
      "cell_type": "code",
      "execution_count": null,
      "metadata": {
        "colab": {
          "base_uri": "https://localhost:8080/",
          "height": 255
        },
        "id": "3LxQ0loKWX_m",
        "outputId": "3433a566-3566-486c-b6ea-f080debff6fe"
      },
      "outputs": [
        {
          "output_type": "execute_result",
          "data": {
            "text/plain": [
              "          filename  length  chroma_stft_mean  chroma_stft_var  rms_mean  \\\n",
              "0  blues.00000.wav  661794          0.350088         0.088757  0.130228   \n",
              "1  blues.00001.wav  661794          0.340914         0.094980  0.095948   \n",
              "2  blues.00002.wav  661794          0.363637         0.085275  0.175570   \n",
              "3  blues.00003.wav  661794          0.404785         0.093999  0.141093   \n",
              "4  blues.00004.wav  661794          0.308526         0.087841  0.091529   \n",
              "\n",
              "    rms_var  spectral_centroid_mean  spectral_centroid_var  \\\n",
              "0  0.002827             1784.165850          129774.064525   \n",
              "1  0.002373             1530.176679          375850.073649   \n",
              "2  0.002746             1552.811865          156467.643368   \n",
              "3  0.006346             1070.106615          184355.942417   \n",
              "4  0.002303             1835.004266          343399.939274   \n",
              "\n",
              "   spectral_bandwidth_mean  spectral_bandwidth_var  ...  mfcc16_var  \\\n",
              "0              2002.449060            85882.761315  ...   52.420910   \n",
              "1              2039.036516           213843.755497  ...   55.356403   \n",
              "2              1747.702312            76254.192257  ...   40.598766   \n",
              "3              1596.412872           166441.494769  ...   44.427753   \n",
              "4              1748.172116            88445.209036  ...   86.099236   \n",
              "\n",
              "   mfcc17_mean  mfcc17_var  mfcc18_mean  mfcc18_var  mfcc19_mean  mfcc19_var  \\\n",
              "0    -1.690215   36.524071    -0.408979   41.597103    -2.303523   55.062923   \n",
              "1    -0.731125   60.314529     0.295073   48.120598    -0.283518   51.106190   \n",
              "2    -7.729093   47.639427    -1.816407   52.382141    -3.439720   46.639660   \n",
              "3    -3.319597   50.206673     0.636965   37.319130    -0.619121   37.259739   \n",
              "4    -5.454034   75.269707    -0.916874   53.613918    -4.404827   62.910812   \n",
              "\n",
              "   mfcc20_mean  mfcc20_var  label  \n",
              "0     1.221291   46.936035  blues  \n",
              "1     0.531217   45.786282  blues  \n",
              "2    -2.231258   30.573025  blues  \n",
              "3    -3.407448   31.949339  blues  \n",
              "4   -11.703234   55.195160  blues  \n",
              "\n",
              "[5 rows x 60 columns]"
            ],
            "text/html": [
              "\n",
              "  <div id=\"df-f933d7d1-3b5c-444d-9dc2-e7a562287240\" class=\"colab-df-container\">\n",
              "    <div>\n",
              "<style scoped>\n",
              "    .dataframe tbody tr th:only-of-type {\n",
              "        vertical-align: middle;\n",
              "    }\n",
              "\n",
              "    .dataframe tbody tr th {\n",
              "        vertical-align: top;\n",
              "    }\n",
              "\n",
              "    .dataframe thead th {\n",
              "        text-align: right;\n",
              "    }\n",
              "</style>\n",
              "<table border=\"1\" class=\"dataframe\">\n",
              "  <thead>\n",
              "    <tr style=\"text-align: right;\">\n",
              "      <th></th>\n",
              "      <th>filename</th>\n",
              "      <th>length</th>\n",
              "      <th>chroma_stft_mean</th>\n",
              "      <th>chroma_stft_var</th>\n",
              "      <th>rms_mean</th>\n",
              "      <th>rms_var</th>\n",
              "      <th>spectral_centroid_mean</th>\n",
              "      <th>spectral_centroid_var</th>\n",
              "      <th>spectral_bandwidth_mean</th>\n",
              "      <th>spectral_bandwidth_var</th>\n",
              "      <th>...</th>\n",
              "      <th>mfcc16_var</th>\n",
              "      <th>mfcc17_mean</th>\n",
              "      <th>mfcc17_var</th>\n",
              "      <th>mfcc18_mean</th>\n",
              "      <th>mfcc18_var</th>\n",
              "      <th>mfcc19_mean</th>\n",
              "      <th>mfcc19_var</th>\n",
              "      <th>mfcc20_mean</th>\n",
              "      <th>mfcc20_var</th>\n",
              "      <th>label</th>\n",
              "    </tr>\n",
              "  </thead>\n",
              "  <tbody>\n",
              "    <tr>\n",
              "      <th>0</th>\n",
              "      <td>blues.00000.wav</td>\n",
              "      <td>661794</td>\n",
              "      <td>0.350088</td>\n",
              "      <td>0.088757</td>\n",
              "      <td>0.130228</td>\n",
              "      <td>0.002827</td>\n",
              "      <td>1784.165850</td>\n",
              "      <td>129774.064525</td>\n",
              "      <td>2002.449060</td>\n",
              "      <td>85882.761315</td>\n",
              "      <td>...</td>\n",
              "      <td>52.420910</td>\n",
              "      <td>-1.690215</td>\n",
              "      <td>36.524071</td>\n",
              "      <td>-0.408979</td>\n",
              "      <td>41.597103</td>\n",
              "      <td>-2.303523</td>\n",
              "      <td>55.062923</td>\n",
              "      <td>1.221291</td>\n",
              "      <td>46.936035</td>\n",
              "      <td>blues</td>\n",
              "    </tr>\n",
              "    <tr>\n",
              "      <th>1</th>\n",
              "      <td>blues.00001.wav</td>\n",
              "      <td>661794</td>\n",
              "      <td>0.340914</td>\n",
              "      <td>0.094980</td>\n",
              "      <td>0.095948</td>\n",
              "      <td>0.002373</td>\n",
              "      <td>1530.176679</td>\n",
              "      <td>375850.073649</td>\n",
              "      <td>2039.036516</td>\n",
              "      <td>213843.755497</td>\n",
              "      <td>...</td>\n",
              "      <td>55.356403</td>\n",
              "      <td>-0.731125</td>\n",
              "      <td>60.314529</td>\n",
              "      <td>0.295073</td>\n",
              "      <td>48.120598</td>\n",
              "      <td>-0.283518</td>\n",
              "      <td>51.106190</td>\n",
              "      <td>0.531217</td>\n",
              "      <td>45.786282</td>\n",
              "      <td>blues</td>\n",
              "    </tr>\n",
              "    <tr>\n",
              "      <th>2</th>\n",
              "      <td>blues.00002.wav</td>\n",
              "      <td>661794</td>\n",
              "      <td>0.363637</td>\n",
              "      <td>0.085275</td>\n",
              "      <td>0.175570</td>\n",
              "      <td>0.002746</td>\n",
              "      <td>1552.811865</td>\n",
              "      <td>156467.643368</td>\n",
              "      <td>1747.702312</td>\n",
              "      <td>76254.192257</td>\n",
              "      <td>...</td>\n",
              "      <td>40.598766</td>\n",
              "      <td>-7.729093</td>\n",
              "      <td>47.639427</td>\n",
              "      <td>-1.816407</td>\n",
              "      <td>52.382141</td>\n",
              "      <td>-3.439720</td>\n",
              "      <td>46.639660</td>\n",
              "      <td>-2.231258</td>\n",
              "      <td>30.573025</td>\n",
              "      <td>blues</td>\n",
              "    </tr>\n",
              "    <tr>\n",
              "      <th>3</th>\n",
              "      <td>blues.00003.wav</td>\n",
              "      <td>661794</td>\n",
              "      <td>0.404785</td>\n",
              "      <td>0.093999</td>\n",
              "      <td>0.141093</td>\n",
              "      <td>0.006346</td>\n",
              "      <td>1070.106615</td>\n",
              "      <td>184355.942417</td>\n",
              "      <td>1596.412872</td>\n",
              "      <td>166441.494769</td>\n",
              "      <td>...</td>\n",
              "      <td>44.427753</td>\n",
              "      <td>-3.319597</td>\n",
              "      <td>50.206673</td>\n",
              "      <td>0.636965</td>\n",
              "      <td>37.319130</td>\n",
              "      <td>-0.619121</td>\n",
              "      <td>37.259739</td>\n",
              "      <td>-3.407448</td>\n",
              "      <td>31.949339</td>\n",
              "      <td>blues</td>\n",
              "    </tr>\n",
              "    <tr>\n",
              "      <th>4</th>\n",
              "      <td>blues.00004.wav</td>\n",
              "      <td>661794</td>\n",
              "      <td>0.308526</td>\n",
              "      <td>0.087841</td>\n",
              "      <td>0.091529</td>\n",
              "      <td>0.002303</td>\n",
              "      <td>1835.004266</td>\n",
              "      <td>343399.939274</td>\n",
              "      <td>1748.172116</td>\n",
              "      <td>88445.209036</td>\n",
              "      <td>...</td>\n",
              "      <td>86.099236</td>\n",
              "      <td>-5.454034</td>\n",
              "      <td>75.269707</td>\n",
              "      <td>-0.916874</td>\n",
              "      <td>53.613918</td>\n",
              "      <td>-4.404827</td>\n",
              "      <td>62.910812</td>\n",
              "      <td>-11.703234</td>\n",
              "      <td>55.195160</td>\n",
              "      <td>blues</td>\n",
              "    </tr>\n",
              "  </tbody>\n",
              "</table>\n",
              "<p>5 rows × 60 columns</p>\n",
              "</div>\n",
              "    <div class=\"colab-df-buttons\">\n",
              "\n",
              "  <div class=\"colab-df-container\">\n",
              "    <button class=\"colab-df-convert\" onclick=\"convertToInteractive('df-f933d7d1-3b5c-444d-9dc2-e7a562287240')\"\n",
              "            title=\"Convert this dataframe to an interactive table.\"\n",
              "            style=\"display:none;\">\n",
              "\n",
              "  <svg xmlns=\"http://www.w3.org/2000/svg\" height=\"24px\" viewBox=\"0 -960 960 960\">\n",
              "    <path d=\"M120-120v-720h720v720H120Zm60-500h600v-160H180v160Zm220 220h160v-160H400v160Zm0 220h160v-160H400v160ZM180-400h160v-160H180v160Zm440 0h160v-160H620v160ZM180-180h160v-160H180v160Zm440 0h160v-160H620v160Z\"/>\n",
              "  </svg>\n",
              "    </button>\n",
              "\n",
              "  <style>\n",
              "    .colab-df-container {\n",
              "      display:flex;\n",
              "      gap: 12px;\n",
              "    }\n",
              "\n",
              "    .colab-df-convert {\n",
              "      background-color: #E8F0FE;\n",
              "      border: none;\n",
              "      border-radius: 50%;\n",
              "      cursor: pointer;\n",
              "      display: none;\n",
              "      fill: #1967D2;\n",
              "      height: 32px;\n",
              "      padding: 0 0 0 0;\n",
              "      width: 32px;\n",
              "    }\n",
              "\n",
              "    .colab-df-convert:hover {\n",
              "      background-color: #E2EBFA;\n",
              "      box-shadow: 0px 1px 2px rgba(60, 64, 67, 0.3), 0px 1px 3px 1px rgba(60, 64, 67, 0.15);\n",
              "      fill: #174EA6;\n",
              "    }\n",
              "\n",
              "    .colab-df-buttons div {\n",
              "      margin-bottom: 4px;\n",
              "    }\n",
              "\n",
              "    [theme=dark] .colab-df-convert {\n",
              "      background-color: #3B4455;\n",
              "      fill: #D2E3FC;\n",
              "    }\n",
              "\n",
              "    [theme=dark] .colab-df-convert:hover {\n",
              "      background-color: #434B5C;\n",
              "      box-shadow: 0px 1px 3px 1px rgba(0, 0, 0, 0.15);\n",
              "      filter: drop-shadow(0px 1px 2px rgba(0, 0, 0, 0.3));\n",
              "      fill: #FFFFFF;\n",
              "    }\n",
              "  </style>\n",
              "\n",
              "    <script>\n",
              "      const buttonEl =\n",
              "        document.querySelector('#df-f933d7d1-3b5c-444d-9dc2-e7a562287240 button.colab-df-convert');\n",
              "      buttonEl.style.display =\n",
              "        google.colab.kernel.accessAllowed ? 'block' : 'none';\n",
              "\n",
              "      async function convertToInteractive(key) {\n",
              "        const element = document.querySelector('#df-f933d7d1-3b5c-444d-9dc2-e7a562287240');\n",
              "        const dataTable =\n",
              "          await google.colab.kernel.invokeFunction('convertToInteractive',\n",
              "                                                    [key], {});\n",
              "        if (!dataTable) return;\n",
              "\n",
              "        const docLinkHtml = 'Like what you see? Visit the ' +\n",
              "          '<a target=\"_blank\" href=https://colab.research.google.com/notebooks/data_table.ipynb>data table notebook</a>'\n",
              "          + ' to learn more about interactive tables.';\n",
              "        element.innerHTML = '';\n",
              "        dataTable['output_type'] = 'display_data';\n",
              "        await google.colab.output.renderOutput(dataTable, element);\n",
              "        const docLink = document.createElement('div');\n",
              "        docLink.innerHTML = docLinkHtml;\n",
              "        element.appendChild(docLink);\n",
              "      }\n",
              "    </script>\n",
              "  </div>\n",
              "\n",
              "\n",
              "<div id=\"df-af69c002-a844-4fd8-ab8f-c28b31da03c3\">\n",
              "  <button class=\"colab-df-quickchart\" onclick=\"quickchart('df-af69c002-a844-4fd8-ab8f-c28b31da03c3')\"\n",
              "            title=\"Suggest charts.\"\n",
              "            style=\"display:none;\">\n",
              "\n",
              "<svg xmlns=\"http://www.w3.org/2000/svg\" height=\"24px\"viewBox=\"0 0 24 24\"\n",
              "     width=\"24px\">\n",
              "    <g>\n",
              "        <path d=\"M19 3H5c-1.1 0-2 .9-2 2v14c0 1.1.9 2 2 2h14c1.1 0 2-.9 2-2V5c0-1.1-.9-2-2-2zM9 17H7v-7h2v7zm4 0h-2V7h2v10zm4 0h-2v-4h2v4z\"/>\n",
              "    </g>\n",
              "</svg>\n",
              "  </button>\n",
              "\n",
              "<style>\n",
              "  .colab-df-quickchart {\n",
              "      --bg-color: #E8F0FE;\n",
              "      --fill-color: #1967D2;\n",
              "      --hover-bg-color: #E2EBFA;\n",
              "      --hover-fill-color: #174EA6;\n",
              "      --disabled-fill-color: #AAA;\n",
              "      --disabled-bg-color: #DDD;\n",
              "  }\n",
              "\n",
              "  [theme=dark] .colab-df-quickchart {\n",
              "      --bg-color: #3B4455;\n",
              "      --fill-color: #D2E3FC;\n",
              "      --hover-bg-color: #434B5C;\n",
              "      --hover-fill-color: #FFFFFF;\n",
              "      --disabled-bg-color: #3B4455;\n",
              "      --disabled-fill-color: #666;\n",
              "  }\n",
              "\n",
              "  .colab-df-quickchart {\n",
              "    background-color: var(--bg-color);\n",
              "    border: none;\n",
              "    border-radius: 50%;\n",
              "    cursor: pointer;\n",
              "    display: none;\n",
              "    fill: var(--fill-color);\n",
              "    height: 32px;\n",
              "    padding: 0;\n",
              "    width: 32px;\n",
              "  }\n",
              "\n",
              "  .colab-df-quickchart:hover {\n",
              "    background-color: var(--hover-bg-color);\n",
              "    box-shadow: 0 1px 2px rgba(60, 64, 67, 0.3), 0 1px 3px 1px rgba(60, 64, 67, 0.15);\n",
              "    fill: var(--button-hover-fill-color);\n",
              "  }\n",
              "\n",
              "  .colab-df-quickchart-complete:disabled,\n",
              "  .colab-df-quickchart-complete:disabled:hover {\n",
              "    background-color: var(--disabled-bg-color);\n",
              "    fill: var(--disabled-fill-color);\n",
              "    box-shadow: none;\n",
              "  }\n",
              "\n",
              "  .colab-df-spinner {\n",
              "    border: 2px solid var(--fill-color);\n",
              "    border-color: transparent;\n",
              "    border-bottom-color: var(--fill-color);\n",
              "    animation:\n",
              "      spin 1s steps(1) infinite;\n",
              "  }\n",
              "\n",
              "  @keyframes spin {\n",
              "    0% {\n",
              "      border-color: transparent;\n",
              "      border-bottom-color: var(--fill-color);\n",
              "      border-left-color: var(--fill-color);\n",
              "    }\n",
              "    20% {\n",
              "      border-color: transparent;\n",
              "      border-left-color: var(--fill-color);\n",
              "      border-top-color: var(--fill-color);\n",
              "    }\n",
              "    30% {\n",
              "      border-color: transparent;\n",
              "      border-left-color: var(--fill-color);\n",
              "      border-top-color: var(--fill-color);\n",
              "      border-right-color: var(--fill-color);\n",
              "    }\n",
              "    40% {\n",
              "      border-color: transparent;\n",
              "      border-right-color: var(--fill-color);\n",
              "      border-top-color: var(--fill-color);\n",
              "    }\n",
              "    60% {\n",
              "      border-color: transparent;\n",
              "      border-right-color: var(--fill-color);\n",
              "    }\n",
              "    80% {\n",
              "      border-color: transparent;\n",
              "      border-right-color: var(--fill-color);\n",
              "      border-bottom-color: var(--fill-color);\n",
              "    }\n",
              "    90% {\n",
              "      border-color: transparent;\n",
              "      border-bottom-color: var(--fill-color);\n",
              "    }\n",
              "  }\n",
              "</style>\n",
              "\n",
              "  <script>\n",
              "    async function quickchart(key) {\n",
              "      const quickchartButtonEl =\n",
              "        document.querySelector('#' + key + ' button');\n",
              "      quickchartButtonEl.disabled = true;  // To prevent multiple clicks.\n",
              "      quickchartButtonEl.classList.add('colab-df-spinner');\n",
              "      try {\n",
              "        const charts = await google.colab.kernel.invokeFunction(\n",
              "            'suggestCharts', [key], {});\n",
              "      } catch (error) {\n",
              "        console.error('Error during call to suggestCharts:', error);\n",
              "      }\n",
              "      quickchartButtonEl.classList.remove('colab-df-spinner');\n",
              "      quickchartButtonEl.classList.add('colab-df-quickchart-complete');\n",
              "    }\n",
              "    (() => {\n",
              "      let quickchartButtonEl =\n",
              "        document.querySelector('#df-af69c002-a844-4fd8-ab8f-c28b31da03c3 button');\n",
              "      quickchartButtonEl.style.display =\n",
              "        google.colab.kernel.accessAllowed ? 'block' : 'none';\n",
              "    })();\n",
              "  </script>\n",
              "</div>\n",
              "    </div>\n",
              "  </div>\n"
            ]
          },
          "metadata": {},
          "execution_count": 5
        }
      ],
      "source": [
        "df = pd.read_csv(csvPath)\n",
        "df.head()"
      ]
    },
    {
      "cell_type": "code",
      "execution_count": null,
      "metadata": {
        "id": "NzVo7aErVylr"
      },
      "outputs": [],
      "source": [
        "def extractFeatures(file):\n",
        "  audio, sample_rate = librosa.load(file_name, res_type='kaiser_fast')\n",
        "  mfccs_features = librosa.feature.mfcc(y=audio,sr=sample_rate,n_mfcc=40)\n",
        "  mfccs_features_scaled = np.mean(mfccs_features.T,axis=0)\n",
        "  return mfccs_features_scaled"
      ]
    },
    {
      "cell_type": "code",
      "execution_count": null,
      "metadata": {
        "id": "5ui9-GBWXpGd"
      },
      "outputs": [],
      "source": [
        "df.drop(labels=552,axis=0,inplace=True)"
      ]
    },
    {
      "cell_type": "code",
      "execution_count": null,
      "metadata": {
        "id": "tvRt8rRAYQmK"
      },
      "outputs": [],
      "source": [
        "from tqdm import tqdm\n",
        "\n",
        "features_extracted = [\n",
        "\n",
        "]"
      ]
    },
    {
      "cell_type": "code",
      "execution_count": null,
      "metadata": {
        "colab": {
          "base_uri": "https://localhost:8080/"
        },
        "id": "ZKwGT1G-Yf-K",
        "outputId": "bfa94dfb-8f41-4840-cbf5-867ba4bf7686"
      },
      "outputs": [
        {
          "output_type": "stream",
          "name": "stderr",
          "text": [
            "553it [05:39,  1.71it/s]<ipython-input-6-ea0812c28454>:2: UserWarning: PySoundFile failed. Trying audioread instead.\n",
            "  audio, sample_rate = librosa.load(file_name, res_type='kaiser_fast')\n",
            "/usr/local/lib/python3.10/dist-packages/librosa/core/audio.py:183: FutureWarning: librosa.core.audio.__audioread_load\n",
            "\tDeprecated as of librosa version 0.10.0.\n",
            "\tIt will be removed in librosa version 1.0.\n",
            "  y, sr_native = __audioread_load(path, offset, duration, dtype)\n",
            "554it [05:40,  1.44it/s]"
          ]
        },
        {
          "output_type": "stream",
          "name": "stdout",
          "text": [
            "----->found error \n"
          ]
        },
        {
          "output_type": "stream",
          "name": "stderr",
          "text": [
            "999it [09:55,  1.68it/s]\n"
          ]
        }
      ],
      "source": [
        "for idx, row in tqdm(df.iterrows()):\n",
        "  try:\n",
        "    labels = row['label']\n",
        "    file_name = os.path.join(os.path.abspath(audio_dir),labels+'/',str(row['filename']))\n",
        "    data = extractFeatures(file_name)\n",
        "    features_extracted.append([data, labels])\n",
        "  except Exception as e:\n",
        "    print(f\"----->found error {e}\")\n",
        "    continue"
      ]
    },
    {
      "cell_type": "code",
      "execution_count": null,
      "metadata": {
        "id": "XFLYIqvIYuFS"
      },
      "outputs": [],
      "source": [
        "features_extracted_df = pd.DataFrame(features_extracted,columns=['features','genre'])"
      ]
    },
    {
      "cell_type": "code",
      "execution_count": null,
      "metadata": {
        "colab": {
          "base_uri": "https://localhost:8080/"
        },
        "id": "QwvjBh7UcYQx",
        "outputId": "1f707f95-11d9-45fd-9c24-b359260953ab"
      },
      "outputs": [
        {
          "output_type": "execute_result",
          "data": {
            "text/plain": [
              "blues        100\n",
              "classical    100\n",
              "country      100\n",
              "disco        100\n",
              "hiphop       100\n",
              "metal        100\n",
              "pop          100\n",
              "reggae       100\n",
              "rock         100\n",
              "jazz          98\n",
              "Name: genre, dtype: int64"
            ]
          },
          "metadata": {},
          "execution_count": 11
        }
      ],
      "source": [
        "features_extracted_df['genre'].value_counts()"
      ]
    },
    {
      "cell_type": "code",
      "execution_count": null,
      "metadata": {
        "id": "C48ACwUMcvP6"
      },
      "outputs": [],
      "source": [
        "X = np.array(features_extracted_df['features'].tolist())\n",
        "y = np.array(features_extracted_df['genre'].tolist())"
      ]
    },
    {
      "cell_type": "code",
      "execution_count": null,
      "metadata": {
        "colab": {
          "base_uri": "https://localhost:8080/"
        },
        "id": "y_B9bTQxdZrr",
        "outputId": "3ecfd1d8-05c3-49a7-88c5-f7a42a80884c"
      },
      "outputs": [
        {
          "output_type": "execute_result",
          "data": {
            "text/plain": [
              "(998, 40)"
            ]
          },
          "metadata": {},
          "execution_count": 13
        }
      ],
      "source": [
        "X.shape"
      ]
    },
    {
      "cell_type": "code",
      "execution_count": null,
      "metadata": {
        "colab": {
          "base_uri": "https://localhost:8080/"
        },
        "id": "3NWspbh7db46",
        "outputId": "1074beae-6df6-4780-e8bd-73fafe7dbcd8"
      },
      "outputs": [
        {
          "output_type": "execute_result",
          "data": {
            "text/plain": [
              "(998,)"
            ]
          },
          "metadata": {},
          "execution_count": 14
        }
      ],
      "source": [
        "y.shape"
      ]
    },
    {
      "cell_type": "code",
      "execution_count": null,
      "metadata": {
        "id": "gWyxZdwgdi1L"
      },
      "outputs": [],
      "source": [
        "from tensorflow.keras.utils import to_categorical\n",
        "from sklearn.preprocessing import LabelEncoder"
      ]
    },
    {
      "cell_type": "code",
      "execution_count": null,
      "metadata": {
        "id": "H5a1NxrXd3iR"
      },
      "outputs": [],
      "source": [
        "labenc = LabelEncoder()\n",
        "y = to_categorical(labenc.fit_transform(y))"
      ]
    },
    {
      "cell_type": "code",
      "execution_count": null,
      "metadata": {
        "colab": {
          "base_uri": "https://localhost:8080/"
        },
        "id": "YV8ebfsneED5",
        "outputId": "a9c98738-3d55-43f9-b430-b73b9c3fbe76"
      },
      "outputs": [
        {
          "output_type": "execute_result",
          "data": {
            "text/plain": [
              "(998, 10)"
            ]
          },
          "metadata": {},
          "execution_count": 17
        }
      ],
      "source": [
        "y.shape"
      ]
    },
    {
      "cell_type": "code",
      "execution_count": null,
      "metadata": {
        "id": "nlF9meK7eGa5"
      },
      "outputs": [],
      "source": [
        "#### TRAIN TEST SPLITTING\n",
        "from sklearn.model_selection import train_test_split\n",
        "X_train, X_test, y_train, y_test = train_test_split(X,y,test_size=0.3, random_state=0)"
      ]
    },
    {
      "cell_type": "code",
      "execution_count": null,
      "metadata": {
        "colab": {
          "base_uri": "https://localhost:8080/"
        },
        "id": "x-fKKNDNehwz",
        "outputId": "48dd3a01-7d3b-430c-db13-70c57143d8fa"
      },
      "outputs": [
        {
          "output_type": "execute_result",
          "data": {
            "text/plain": [
              "(698, 40)"
            ]
          },
          "metadata": {},
          "execution_count": 45
        }
      ],
      "source": [
        "X_train.shape"
      ]
    },
    {
      "cell_type": "code",
      "execution_count": null,
      "metadata": {
        "id": "XZpl98exejUA"
      },
      "outputs": [],
      "source": [
        "import tensorflow as tf"
      ]
    },
    {
      "cell_type": "code",
      "execution_count": null,
      "metadata": {
        "id": "XCGhSCtne2dp"
      },
      "outputs": [],
      "source": [
        "from tensorflow.keras.models import Sequential\n",
        "from tensorflow.keras.layers import Dense,Dropout,Activation,Flatten\n",
        "from tensorflow.keras.optimizers import Adam\n",
        "from sklearn import metrics"
      ]
    },
    {
      "cell_type": "code",
      "execution_count": null,
      "metadata": {
        "id": "JDYnsYPKgqEy"
      },
      "outputs": [],
      "source": [
        "num_labels = y.shape[1]"
      ]
    },
    {
      "cell_type": "code",
      "execution_count": null,
      "metadata": {
        "id": "sd7Eatl_g8nj"
      },
      "outputs": [],
      "source": [
        "model = Sequential()\n",
        "model.add(Dense(1024,input_shape=(40,), activation='sigmoid'))\n",
        "model.add(Dropout(0.3))\n",
        "model.add(Dense(512,activation='sigmoid'))\n",
        "model.add(Dropout(0.3))\n",
        "model.add(Dense(256,activation='sigmoid'))\n",
        "model.add(Dropout(0.3))\n",
        "model.add(Dense(128,activation='sigmoid'))\n",
        "model.add(Dropout(0.3))\n",
        "model.add(Dense(64,activation='sigmoid'))\n",
        "model.add(Dropout(0.3))\n",
        "model.add(Dense(32,activation='sigmoid'))\n",
        "model.add(Dropout(0.3))\n",
        "model.add(Dense(num_labels,activation='softmax'))"
      ]
    },
    {
      "cell_type": "code",
      "execution_count": null,
      "metadata": {
        "colab": {
          "base_uri": "https://localhost:8080/"
        },
        "id": "6rKrlwy1hPbS",
        "outputId": "12c92387-20b6-4401-c327-02fc23ef4a81"
      },
      "outputs": [
        {
          "output_type": "stream",
          "name": "stdout",
          "text": [
            "Model: \"sequential_3\"\n",
            "_________________________________________________________________\n",
            " Layer (type)                Output Shape              Param #   \n",
            "=================================================================\n",
            " dense_21 (Dense)            (None, 1024)              41984     \n",
            "                                                                 \n",
            " dropout_18 (Dropout)        (None, 1024)              0         \n",
            "                                                                 \n",
            " dense_22 (Dense)            (None, 512)               524800    \n",
            "                                                                 \n",
            " dropout_19 (Dropout)        (None, 512)               0         \n",
            "                                                                 \n",
            " dense_23 (Dense)            (None, 256)               131328    \n",
            "                                                                 \n",
            " dropout_20 (Dropout)        (None, 256)               0         \n",
            "                                                                 \n",
            " dense_24 (Dense)            (None, 128)               32896     \n",
            "                                                                 \n",
            " dropout_21 (Dropout)        (None, 128)               0         \n",
            "                                                                 \n",
            " dense_25 (Dense)            (None, 64)                8256      \n",
            "                                                                 \n",
            " dropout_22 (Dropout)        (None, 64)                0         \n",
            "                                                                 \n",
            " dense_26 (Dense)            (None, 32)                2080      \n",
            "                                                                 \n",
            " dropout_23 (Dropout)        (None, 32)                0         \n",
            "                                                                 \n",
            " dense_27 (Dense)            (None, 10)                330       \n",
            "                                                                 \n",
            "=================================================================\n",
            "Total params: 741674 (2.83 MB)\n",
            "Trainable params: 741674 (2.83 MB)\n",
            "Non-trainable params: 0 (0.00 Byte)\n",
            "_________________________________________________________________\n"
          ]
        }
      ],
      "source": [
        "model.summary()"
      ]
    },
    {
      "cell_type": "code",
      "execution_count": null,
      "metadata": {
        "id": "SGkYGtreiDFC"
      },
      "outputs": [],
      "source": [
        "model.compile(loss=\"categorical_crossentropy\", metrics=[\"accuracy\"],optimizer=\"adam\")"
      ]
    },
    {
      "cell_type": "code",
      "execution_count": null,
      "metadata": {
        "colab": {
          "base_uri": "https://localhost:8080/"
        },
        "id": "v9MYCOhPiVhZ",
        "outputId": "e38f33c0-64b0-48a4-8255-486efc97c658"
      },
      "outputs": [
        {
          "output_type": "stream",
          "name": "stdout",
          "text": [
            "Epoch 1/200\n",
            "70/70 [==============================] - 3s 15ms/step - loss: 2.3827 - accuracy: 0.1003 - val_loss: 2.2922 - val_accuracy: 0.1117\n",
            "Epoch 2/200\n",
            "70/70 [==============================] - 1s 13ms/step - loss: 2.3174 - accuracy: 0.1347 - val_loss: 2.2150 - val_accuracy: 0.2249\n",
            "Epoch 3/200\n",
            "70/70 [==============================] - 1s 15ms/step - loss: 2.2407 - accuracy: 0.1777 - val_loss: 2.1223 - val_accuracy: 0.2679\n",
            "Epoch 4/200\n",
            "70/70 [==============================] - 1s 12ms/step - loss: 2.1570 - accuracy: 0.2163 - val_loss: 2.0283 - val_accuracy: 0.2564\n",
            "Epoch 5/200\n",
            "70/70 [==============================] - 1s 12ms/step - loss: 2.0653 - accuracy: 0.2235 - val_loss: 1.9685 - val_accuracy: 0.3052\n",
            "Epoch 6/200\n",
            "70/70 [==============================] - 1s 15ms/step - loss: 2.0568 - accuracy: 0.2206 - val_loss: 1.9737 - val_accuracy: 0.2908\n",
            "Epoch 7/200\n",
            "70/70 [==============================] - 1s 12ms/step - loss: 1.9870 - accuracy: 0.2407 - val_loss: 1.8946 - val_accuracy: 0.3080\n",
            "Epoch 8/200\n",
            "70/70 [==============================] - 1s 15ms/step - loss: 1.9209 - accuracy: 0.3052 - val_loss: 1.8386 - val_accuracy: 0.3338\n",
            "Epoch 9/200\n",
            "70/70 [==============================] - 1s 12ms/step - loss: 1.9365 - accuracy: 0.2851 - val_loss: 1.8208 - val_accuracy: 0.3438\n",
            "Epoch 10/200\n",
            "70/70 [==============================] - 1s 19ms/step - loss: 1.9129 - accuracy: 0.3037 - val_loss: 1.8514 - val_accuracy: 0.3152\n",
            "Epoch 11/200\n",
            "70/70 [==============================] - 1s 20ms/step - loss: 1.8919 - accuracy: 0.3066 - val_loss: 1.7775 - val_accuracy: 0.3825\n",
            "Epoch 12/200\n",
            "70/70 [==============================] - 1s 20ms/step - loss: 1.8404 - accuracy: 0.3266 - val_loss: 1.7479 - val_accuracy: 0.3539\n",
            "Epoch 13/200\n",
            "70/70 [==============================] - 1s 15ms/step - loss: 1.8353 - accuracy: 0.3481 - val_loss: 1.7112 - val_accuracy: 0.3711\n",
            "Epoch 14/200\n",
            "70/70 [==============================] - 1s 12ms/step - loss: 1.7974 - accuracy: 0.3395 - val_loss: 1.6576 - val_accuracy: 0.4126\n",
            "Epoch 15/200\n",
            "70/70 [==============================] - 1s 12ms/step - loss: 1.7837 - accuracy: 0.3496 - val_loss: 1.6219 - val_accuracy: 0.4269\n",
            "Epoch 16/200\n",
            "70/70 [==============================] - 1s 12ms/step - loss: 1.7470 - accuracy: 0.3610 - val_loss: 1.6691 - val_accuracy: 0.3883\n",
            "Epoch 17/200\n",
            "70/70 [==============================] - 1s 15ms/step - loss: 1.7362 - accuracy: 0.3582 - val_loss: 1.5781 - val_accuracy: 0.4499\n",
            "Epoch 18/200\n",
            "70/70 [==============================] - 1s 14ms/step - loss: 1.7039 - accuracy: 0.3610 - val_loss: 1.5658 - val_accuracy: 0.4398\n",
            "Epoch 19/200\n",
            "70/70 [==============================] - 1s 13ms/step - loss: 1.6655 - accuracy: 0.3940 - val_loss: 1.5182 - val_accuracy: 0.4441\n",
            "Epoch 20/200\n",
            "70/70 [==============================] - 1s 12ms/step - loss: 1.6498 - accuracy: 0.3883 - val_loss: 1.5077 - val_accuracy: 0.4370\n",
            "Epoch 21/200\n",
            "70/70 [==============================] - 1s 12ms/step - loss: 1.6181 - accuracy: 0.4040 - val_loss: 1.4598 - val_accuracy: 0.4771\n",
            "Epoch 22/200\n",
            "70/70 [==============================] - 1s 15ms/step - loss: 1.6056 - accuracy: 0.4011 - val_loss: 1.4420 - val_accuracy: 0.5057\n",
            "Epoch 23/200\n",
            "70/70 [==============================] - 1s 13ms/step - loss: 1.5892 - accuracy: 0.4398 - val_loss: 1.4500 - val_accuracy: 0.4828\n",
            "Epoch 24/200\n",
            "70/70 [==============================] - 1s 16ms/step - loss: 1.5609 - accuracy: 0.4384 - val_loss: 1.4715 - val_accuracy: 0.4255\n",
            "Epoch 25/200\n",
            "70/70 [==============================] - 1s 19ms/step - loss: 1.5767 - accuracy: 0.4456 - val_loss: 1.3808 - val_accuracy: 0.5172\n",
            "Epoch 26/200\n",
            "70/70 [==============================] - 1s 19ms/step - loss: 1.4937 - accuracy: 0.4456 - val_loss: 1.3522 - val_accuracy: 0.5272\n",
            "Epoch 27/200\n",
            "70/70 [==============================] - 1s 18ms/step - loss: 1.5096 - accuracy: 0.4384 - val_loss: 1.3579 - val_accuracy: 0.5201\n",
            "Epoch 28/200\n",
            "70/70 [==============================] - 1s 12ms/step - loss: 1.5133 - accuracy: 0.4628 - val_loss: 1.3191 - val_accuracy: 0.5444\n",
            "Epoch 29/200\n",
            "70/70 [==============================] - 1s 15ms/step - loss: 1.5017 - accuracy: 0.4513 - val_loss: 1.3839 - val_accuracy: 0.5014\n",
            "Epoch 30/200\n",
            "70/70 [==============================] - 1s 12ms/step - loss: 1.4794 - accuracy: 0.4670 - val_loss: 1.3502 - val_accuracy: 0.4914\n",
            "Epoch 31/200\n",
            "70/70 [==============================] - 1s 12ms/step - loss: 1.4434 - accuracy: 0.4986 - val_loss: 1.2821 - val_accuracy: 0.5272\n",
            "Epoch 32/200\n",
            "70/70 [==============================] - 1s 15ms/step - loss: 1.4139 - accuracy: 0.4670 - val_loss: 1.2652 - val_accuracy: 0.5501\n",
            "Epoch 33/200\n",
            "70/70 [==============================] - 1s 15ms/step - loss: 1.4073 - accuracy: 0.4885 - val_loss: 1.2888 - val_accuracy: 0.5315\n",
            "Epoch 34/200\n",
            "70/70 [==============================] - 1s 13ms/step - loss: 1.4114 - accuracy: 0.4771 - val_loss: 1.2871 - val_accuracy: 0.5072\n",
            "Epoch 35/200\n",
            "70/70 [==============================] - 1s 12ms/step - loss: 1.4613 - accuracy: 0.4570 - val_loss: 1.3290 - val_accuracy: 0.5301\n",
            "Epoch 36/200\n",
            "70/70 [==============================] - 1s 13ms/step - loss: 1.4103 - accuracy: 0.4828 - val_loss: 1.3164 - val_accuracy: 0.4885\n",
            "Epoch 37/200\n",
            "70/70 [==============================] - 1s 15ms/step - loss: 1.4073 - accuracy: 0.4914 - val_loss: 1.1894 - val_accuracy: 0.5673\n",
            "Epoch 38/200\n",
            "70/70 [==============================] - 1s 15ms/step - loss: 1.3800 - accuracy: 0.4814 - val_loss: 1.1819 - val_accuracy: 0.5788\n",
            "Epoch 39/200\n",
            "70/70 [==============================] - 1s 18ms/step - loss: 1.3704 - accuracy: 0.5029 - val_loss: 1.1943 - val_accuracy: 0.5845\n",
            "Epoch 40/200\n",
            "70/70 [==============================] - 1s 18ms/step - loss: 1.3685 - accuracy: 0.5029 - val_loss: 1.1659 - val_accuracy: 0.5716\n",
            "Epoch 41/200\n",
            "70/70 [==============================] - 1s 20ms/step - loss: 1.3417 - accuracy: 0.4943 - val_loss: 1.2136 - val_accuracy: 0.5559\n",
            "Epoch 42/200\n",
            "70/70 [==============================] - 1s 16ms/step - loss: 1.3340 - accuracy: 0.5258 - val_loss: 1.1500 - val_accuracy: 0.5731\n",
            "Epoch 43/200\n",
            "70/70 [==============================] - 1s 13ms/step - loss: 1.2779 - accuracy: 0.5186 - val_loss: 1.1165 - val_accuracy: 0.5888\n",
            "Epoch 44/200\n",
            "70/70 [==============================] - 1s 15ms/step - loss: 1.2904 - accuracy: 0.5272 - val_loss: 1.1528 - val_accuracy: 0.5473\n",
            "Epoch 45/200\n",
            "70/70 [==============================] - 1s 15ms/step - loss: 1.3099 - accuracy: 0.5330 - val_loss: 1.0722 - val_accuracy: 0.6232\n",
            "Epoch 46/200\n",
            "70/70 [==============================] - 1s 12ms/step - loss: 1.2368 - accuracy: 0.5415 - val_loss: 1.0816 - val_accuracy: 0.6089\n",
            "Epoch 47/200\n",
            "70/70 [==============================] - 1s 15ms/step - loss: 1.2305 - accuracy: 0.5673 - val_loss: 1.0632 - val_accuracy: 0.6132\n",
            "Epoch 48/200\n",
            "70/70 [==============================] - 1s 15ms/step - loss: 1.2492 - accuracy: 0.5387 - val_loss: 1.0502 - val_accuracy: 0.6361\n",
            "Epoch 49/200\n",
            "70/70 [==============================] - 1s 15ms/step - loss: 1.2226 - accuracy: 0.5645 - val_loss: 1.0071 - val_accuracy: 0.6361\n",
            "Epoch 50/200\n",
            "70/70 [==============================] - 1s 12ms/step - loss: 1.2134 - accuracy: 0.5659 - val_loss: 1.0887 - val_accuracy: 0.5960\n",
            "Epoch 51/200\n",
            "70/70 [==============================] - 1s 12ms/step - loss: 1.1738 - accuracy: 0.5817 - val_loss: 1.0179 - val_accuracy: 0.6404\n",
            "Epoch 52/200\n",
            "70/70 [==============================] - 1s 16ms/step - loss: 1.1408 - accuracy: 0.5802 - val_loss: 0.9526 - val_accuracy: 0.6662\n",
            "Epoch 53/200\n",
            "70/70 [==============================] - 1s 18ms/step - loss: 1.1461 - accuracy: 0.5917 - val_loss: 0.9563 - val_accuracy: 0.6562\n",
            "Epoch 54/200\n",
            "70/70 [==============================] - 2s 35ms/step - loss: 1.1868 - accuracy: 0.5630 - val_loss: 0.9552 - val_accuracy: 0.6676\n",
            "Epoch 55/200\n",
            "70/70 [==============================] - 2s 25ms/step - loss: 1.1794 - accuracy: 0.5802 - val_loss: 1.0774 - val_accuracy: 0.5931\n",
            "Epoch 56/200\n",
            "70/70 [==============================] - 1s 15ms/step - loss: 1.1557 - accuracy: 0.5888 - val_loss: 0.9370 - val_accuracy: 0.6848\n",
            "Epoch 57/200\n",
            "70/70 [==============================] - 1s 12ms/step - loss: 1.0997 - accuracy: 0.5845 - val_loss: 0.9336 - val_accuracy: 0.6734\n",
            "Epoch 58/200\n",
            "70/70 [==============================] - 1s 13ms/step - loss: 1.1357 - accuracy: 0.5888 - val_loss: 0.9974 - val_accuracy: 0.6476\n",
            "Epoch 59/200\n",
            "70/70 [==============================] - 1s 12ms/step - loss: 1.1239 - accuracy: 0.5860 - val_loss: 0.9048 - val_accuracy: 0.6877\n",
            "Epoch 60/200\n",
            "70/70 [==============================] - 1s 15ms/step - loss: 1.0803 - accuracy: 0.5960 - val_loss: 0.8594 - val_accuracy: 0.7049\n",
            "Epoch 61/200\n",
            "70/70 [==============================] - 1s 15ms/step - loss: 1.0342 - accuracy: 0.6203 - val_loss: 0.9252 - val_accuracy: 0.6662\n",
            "Epoch 62/200\n",
            "70/70 [==============================] - 1s 15ms/step - loss: 1.1196 - accuracy: 0.5759 - val_loss: 0.8726 - val_accuracy: 0.7034\n",
            "Epoch 63/200\n",
            "70/70 [==============================] - 1s 12ms/step - loss: 1.0896 - accuracy: 0.6032 - val_loss: 0.8622 - val_accuracy: 0.7077\n",
            "Epoch 64/200\n",
            "70/70 [==============================] - 1s 12ms/step - loss: 1.0543 - accuracy: 0.6304 - val_loss: 0.9019 - val_accuracy: 0.6619\n",
            "Epoch 65/200\n",
            "70/70 [==============================] - 1s 15ms/step - loss: 1.0694 - accuracy: 0.6032 - val_loss: 0.8121 - val_accuracy: 0.7077\n",
            "Epoch 66/200\n",
            "70/70 [==============================] - 1s 20ms/step - loss: 1.0299 - accuracy: 0.6433 - val_loss: 0.7943 - val_accuracy: 0.7450\n",
            "Epoch 67/200\n",
            "70/70 [==============================] - 1s 19ms/step - loss: 1.0171 - accuracy: 0.6318 - val_loss: 0.9183 - val_accuracy: 0.6819\n",
            "Epoch 68/200\n",
            "70/70 [==============================] - 1s 19ms/step - loss: 1.1029 - accuracy: 0.6218 - val_loss: 0.8287 - val_accuracy: 0.7350\n",
            "Epoch 69/200\n",
            "70/70 [==============================] - 1s 13ms/step - loss: 1.0742 - accuracy: 0.6103 - val_loss: 0.8332 - val_accuracy: 0.7049\n",
            "Epoch 70/200\n",
            "70/70 [==============================] - 1s 13ms/step - loss: 1.0384 - accuracy: 0.6476 - val_loss: 0.7720 - val_accuracy: 0.7350\n",
            "Epoch 71/200\n",
            "70/70 [==============================] - 1s 12ms/step - loss: 1.0423 - accuracy: 0.6390 - val_loss: 0.8186 - val_accuracy: 0.6963\n",
            "Epoch 72/200\n",
            "70/70 [==============================] - 1s 13ms/step - loss: 0.9967 - accuracy: 0.6533 - val_loss: 0.7808 - val_accuracy: 0.7350\n",
            "Epoch 73/200\n",
            "70/70 [==============================] - 1s 15ms/step - loss: 0.9958 - accuracy: 0.6304 - val_loss: 0.7772 - val_accuracy: 0.7120\n",
            "Epoch 74/200\n",
            "70/70 [==============================] - 1s 13ms/step - loss: 0.9574 - accuracy: 0.6418 - val_loss: 0.7293 - val_accuracy: 0.7665\n",
            "Epoch 75/200\n",
            "70/70 [==============================] - 1s 12ms/step - loss: 0.9326 - accuracy: 0.6576 - val_loss: 0.7785 - val_accuracy: 0.7235\n",
            "Epoch 76/200\n",
            "70/70 [==============================] - 1s 13ms/step - loss: 0.9901 - accuracy: 0.6576 - val_loss: 0.7338 - val_accuracy: 0.7307\n",
            "Epoch 77/200\n",
            "70/70 [==============================] - 1s 13ms/step - loss: 0.9332 - accuracy: 0.6791 - val_loss: 0.7270 - val_accuracy: 0.7536\n",
            "Epoch 78/200\n",
            "70/70 [==============================] - 1s 14ms/step - loss: 0.9517 - accuracy: 0.6719 - val_loss: 0.7058 - val_accuracy: 0.7593\n",
            "Epoch 79/200\n",
            "70/70 [==============================] - 1s 15ms/step - loss: 0.9320 - accuracy: 0.6891 - val_loss: 0.7016 - val_accuracy: 0.7765\n",
            "Epoch 80/200\n",
            "70/70 [==============================] - 1s 19ms/step - loss: 0.9350 - accuracy: 0.6590 - val_loss: 0.7305 - val_accuracy: 0.7350\n",
            "Epoch 81/200\n",
            "70/70 [==============================] - 1s 18ms/step - loss: 0.9621 - accuracy: 0.6648 - val_loss: 0.6816 - val_accuracy: 0.7708\n",
            "Epoch 82/200\n",
            "70/70 [==============================] - 1s 19ms/step - loss: 0.9545 - accuracy: 0.6576 - val_loss: 0.7095 - val_accuracy: 0.7550\n",
            "Epoch 83/200\n",
            "70/70 [==============================] - 1s 14ms/step - loss: 0.9109 - accuracy: 0.6748 - val_loss: 0.6519 - val_accuracy: 0.7722\n",
            "Epoch 84/200\n",
            "70/70 [==============================] - 1s 13ms/step - loss: 0.8920 - accuracy: 0.6862 - val_loss: 0.7087 - val_accuracy: 0.7407\n",
            "Epoch 85/200\n",
            "70/70 [==============================] - 1s 13ms/step - loss: 0.9142 - accuracy: 0.7135 - val_loss: 0.6887 - val_accuracy: 0.7650\n",
            "Epoch 86/200\n",
            "70/70 [==============================] - 1s 12ms/step - loss: 0.8606 - accuracy: 0.7106 - val_loss: 0.6392 - val_accuracy: 0.7894\n",
            "Epoch 87/200\n",
            "70/70 [==============================] - 1s 15ms/step - loss: 0.8850 - accuracy: 0.6834 - val_loss: 0.6726 - val_accuracy: 0.7607\n",
            "Epoch 88/200\n",
            "70/70 [==============================] - 1s 13ms/step - loss: 0.8934 - accuracy: 0.7006 - val_loss: 0.7216 - val_accuracy: 0.7321\n",
            "Epoch 89/200\n",
            "70/70 [==============================] - 1s 15ms/step - loss: 0.9278 - accuracy: 0.6734 - val_loss: 0.6211 - val_accuracy: 0.7937\n",
            "Epoch 90/200\n",
            "70/70 [==============================] - 1s 15ms/step - loss: 0.8475 - accuracy: 0.7063 - val_loss: 0.6714 - val_accuracy: 0.7693\n",
            "Epoch 91/200\n",
            "70/70 [==============================] - 1s 12ms/step - loss: 0.8565 - accuracy: 0.7077 - val_loss: 0.6369 - val_accuracy: 0.7808\n",
            "Epoch 92/200\n",
            "70/70 [==============================] - 1s 13ms/step - loss: 0.8233 - accuracy: 0.7163 - val_loss: 0.6458 - val_accuracy: 0.7966\n",
            "Epoch 93/200\n",
            "70/70 [==============================] - 1s 12ms/step - loss: 0.8889 - accuracy: 0.7092 - val_loss: 0.6093 - val_accuracy: 0.8166\n",
            "Epoch 94/200\n",
            "70/70 [==============================] - 1s 19ms/step - loss: 0.8401 - accuracy: 0.7006 - val_loss: 0.5947 - val_accuracy: 0.8266\n",
            "Epoch 95/200\n",
            "70/70 [==============================] - 1s 20ms/step - loss: 0.7977 - accuracy: 0.7364 - val_loss: 0.5600 - val_accuracy: 0.8009\n",
            "Epoch 96/200\n",
            "70/70 [==============================] - 1s 19ms/step - loss: 0.8148 - accuracy: 0.7235 - val_loss: 0.5948 - val_accuracy: 0.7937\n",
            "Epoch 97/200\n",
            "70/70 [==============================] - 1s 18ms/step - loss: 0.7610 - accuracy: 0.7493 - val_loss: 0.5728 - val_accuracy: 0.8281\n",
            "Epoch 98/200\n",
            "70/70 [==============================] - 1s 15ms/step - loss: 0.8024 - accuracy: 0.7135 - val_loss: 0.6294 - val_accuracy: 0.7880\n",
            "Epoch 99/200\n",
            "70/70 [==============================] - 1s 12ms/step - loss: 0.7883 - accuracy: 0.7335 - val_loss: 0.5938 - val_accuracy: 0.8066\n",
            "Epoch 100/200\n",
            "70/70 [==============================] - 1s 13ms/step - loss: 0.8400 - accuracy: 0.7292 - val_loss: 0.5960 - val_accuracy: 0.7994\n",
            "Epoch 101/200\n",
            "70/70 [==============================] - 1s 15ms/step - loss: 0.8151 - accuracy: 0.7235 - val_loss: 0.5708 - val_accuracy: 0.8367\n",
            "Epoch 102/200\n",
            "70/70 [==============================] - 1s 13ms/step - loss: 0.8504 - accuracy: 0.7393 - val_loss: 0.5708 - val_accuracy: 0.8496\n",
            "Epoch 103/200\n",
            "70/70 [==============================] - 1s 13ms/step - loss: 0.7376 - accuracy: 0.7622 - val_loss: 0.5228 - val_accuracy: 0.8582\n",
            "Epoch 104/200\n",
            "70/70 [==============================] - 1s 15ms/step - loss: 0.7579 - accuracy: 0.7436 - val_loss: 0.5740 - val_accuracy: 0.8080\n",
            "Epoch 105/200\n",
            "70/70 [==============================] - 1s 13ms/step - loss: 0.7603 - accuracy: 0.7507 - val_loss: 0.5151 - val_accuracy: 0.8524\n",
            "Epoch 106/200\n",
            "70/70 [==============================] - 1s 13ms/step - loss: 0.6958 - accuracy: 0.7794 - val_loss: 0.5294 - val_accuracy: 0.8410\n",
            "Epoch 107/200\n",
            "70/70 [==============================] - 1s 12ms/step - loss: 0.8245 - accuracy: 0.7436 - val_loss: 0.5732 - val_accuracy: 0.8238\n",
            "Epoch 108/200\n",
            "70/70 [==============================] - 1s 19ms/step - loss: 0.8125 - accuracy: 0.7507 - val_loss: 0.5059 - val_accuracy: 0.8510\n",
            "Epoch 109/200\n",
            "70/70 [==============================] - 1s 19ms/step - loss: 0.7034 - accuracy: 0.7679 - val_loss: 0.4965 - val_accuracy: 0.8668\n",
            "Epoch 110/200\n",
            "70/70 [==============================] - 1s 18ms/step - loss: 0.7736 - accuracy: 0.7564 - val_loss: 0.5160 - val_accuracy: 0.8453\n",
            "Epoch 111/200\n",
            "70/70 [==============================] - 1s 16ms/step - loss: 0.6967 - accuracy: 0.7751 - val_loss: 0.4675 - val_accuracy: 0.8739\n",
            "Epoch 112/200\n",
            "70/70 [==============================] - 1s 13ms/step - loss: 0.6529 - accuracy: 0.7980 - val_loss: 0.4538 - val_accuracy: 0.9011\n",
            "Epoch 113/200\n",
            "70/70 [==============================] - 1s 15ms/step - loss: 0.6798 - accuracy: 0.8080 - val_loss: 0.4329 - val_accuracy: 0.8725\n",
            "Epoch 114/200\n",
            "70/70 [==============================] - 1s 13ms/step - loss: 0.6841 - accuracy: 0.7894 - val_loss: 0.4811 - val_accuracy: 0.8582\n",
            "Epoch 115/200\n",
            "70/70 [==============================] - 1s 13ms/step - loss: 0.7222 - accuracy: 0.7779 - val_loss: 0.5313 - val_accuracy: 0.8582\n",
            "Epoch 116/200\n",
            "70/70 [==============================] - 1s 12ms/step - loss: 0.6660 - accuracy: 0.7736 - val_loss: 0.4462 - val_accuracy: 0.8811\n",
            "Epoch 117/200\n",
            "70/70 [==============================] - 1s 13ms/step - loss: 0.6450 - accuracy: 0.7765 - val_loss: 0.4024 - val_accuracy: 0.8997\n",
            "Epoch 118/200\n",
            "70/70 [==============================] - 1s 13ms/step - loss: 0.6839 - accuracy: 0.7880 - val_loss: 0.5361 - val_accuracy: 0.8324\n",
            "Epoch 119/200\n",
            "70/70 [==============================] - 1s 13ms/step - loss: 0.7204 - accuracy: 0.7636 - val_loss: 0.4998 - val_accuracy: 0.8610\n",
            "Epoch 120/200\n",
            "70/70 [==============================] - 1s 13ms/step - loss: 0.7297 - accuracy: 0.7593 - val_loss: 0.4104 - val_accuracy: 0.9097\n",
            "Epoch 121/200\n",
            "70/70 [==============================] - 1s 13ms/step - loss: 0.7525 - accuracy: 0.7708 - val_loss: 0.5146 - val_accuracy: 0.8195\n",
            "Epoch 122/200\n",
            "70/70 [==============================] - 1s 15ms/step - loss: 0.6994 - accuracy: 0.7822 - val_loss: 0.4061 - val_accuracy: 0.8954\n",
            "Epoch 123/200\n",
            "70/70 [==============================] - 1s 19ms/step - loss: 0.6751 - accuracy: 0.7851 - val_loss: 0.3945 - val_accuracy: 0.9112\n",
            "Epoch 124/200\n",
            "70/70 [==============================] - 1s 19ms/step - loss: 0.6384 - accuracy: 0.7966 - val_loss: 0.4472 - val_accuracy: 0.8739\n",
            "Epoch 125/200\n",
            "70/70 [==============================] - 1s 18ms/step - loss: 0.7022 - accuracy: 0.7937 - val_loss: 0.3950 - val_accuracy: 0.8983\n",
            "Epoch 126/200\n",
            "70/70 [==============================] - 1s 16ms/step - loss: 0.6867 - accuracy: 0.7951 - val_loss: 0.4341 - val_accuracy: 0.8754\n",
            "Epoch 127/200\n",
            "70/70 [==============================] - 1s 13ms/step - loss: 0.6215 - accuracy: 0.8123 - val_loss: 0.3620 - val_accuracy: 0.9169\n",
            "Epoch 128/200\n",
            "70/70 [==============================] - 1s 15ms/step - loss: 0.6459 - accuracy: 0.8037 - val_loss: 0.4254 - val_accuracy: 0.8754\n",
            "Epoch 129/200\n",
            "70/70 [==============================] - 1s 13ms/step - loss: 0.6292 - accuracy: 0.7994 - val_loss: 0.3643 - val_accuracy: 0.9155\n",
            "Epoch 130/200\n",
            "70/70 [==============================] - 1s 13ms/step - loss: 0.5789 - accuracy: 0.8281 - val_loss: 0.3553 - val_accuracy: 0.9183\n",
            "Epoch 131/200\n",
            "70/70 [==============================] - 1s 15ms/step - loss: 0.6645 - accuracy: 0.8195 - val_loss: 0.5108 - val_accuracy: 0.8539\n",
            "Epoch 132/200\n",
            "70/70 [==============================] - 1s 13ms/step - loss: 0.6708 - accuracy: 0.8123 - val_loss: 0.3798 - val_accuracy: 0.9083\n",
            "Epoch 133/200\n",
            "70/70 [==============================] - 1s 15ms/step - loss: 0.5652 - accuracy: 0.8309 - val_loss: 0.3746 - val_accuracy: 0.9011\n",
            "Epoch 134/200\n",
            "70/70 [==============================] - 1s 13ms/step - loss: 0.6432 - accuracy: 0.8181 - val_loss: 0.3957 - val_accuracy: 0.8926\n",
            "Epoch 135/200\n",
            "70/70 [==============================] - 1s 12ms/step - loss: 0.6276 - accuracy: 0.8138 - val_loss: 0.3649 - val_accuracy: 0.9026\n",
            "Epoch 136/200\n",
            "70/70 [==============================] - 1s 16ms/step - loss: 0.5810 - accuracy: 0.8209 - val_loss: 0.3090 - val_accuracy: 0.9327\n",
            "Epoch 137/200\n",
            "70/70 [==============================] - 1s 19ms/step - loss: 0.6020 - accuracy: 0.8539 - val_loss: 0.3669 - val_accuracy: 0.9054\n",
            "Epoch 138/200\n",
            "70/70 [==============================] - 1s 20ms/step - loss: 0.5902 - accuracy: 0.8352 - val_loss: 0.3195 - val_accuracy: 0.9269\n",
            "Epoch 139/200\n",
            "70/70 [==============================] - 1s 20ms/step - loss: 0.5061 - accuracy: 0.8567 - val_loss: 0.3057 - val_accuracy: 0.9226\n",
            "Epoch 140/200\n",
            "70/70 [==============================] - 1s 13ms/step - loss: 0.5720 - accuracy: 0.8467 - val_loss: 0.3100 - val_accuracy: 0.9255\n",
            "Epoch 141/200\n",
            "70/70 [==============================] - 1s 15ms/step - loss: 0.5913 - accuracy: 0.8410 - val_loss: 0.4179 - val_accuracy: 0.8868\n",
            "Epoch 142/200\n",
            "70/70 [==============================] - 1s 15ms/step - loss: 0.5980 - accuracy: 0.8381 - val_loss: 0.2905 - val_accuracy: 0.9327\n",
            "Epoch 143/200\n",
            "70/70 [==============================] - 1s 13ms/step - loss: 0.5585 - accuracy: 0.8352 - val_loss: 0.2974 - val_accuracy: 0.9255\n",
            "Epoch 144/200\n",
            "70/70 [==============================] - 1s 15ms/step - loss: 0.5676 - accuracy: 0.8496 - val_loss: 0.3974 - val_accuracy: 0.8868\n",
            "Epoch 145/200\n",
            "70/70 [==============================] - 1s 15ms/step - loss: 0.6011 - accuracy: 0.8209 - val_loss: 0.3311 - val_accuracy: 0.9112\n",
            "Epoch 146/200\n",
            "70/70 [==============================] - 1s 13ms/step - loss: 0.5708 - accuracy: 0.8410 - val_loss: 0.2907 - val_accuracy: 0.9312\n",
            "Epoch 147/200\n",
            "70/70 [==============================] - 1s 13ms/step - loss: 0.5915 - accuracy: 0.8367 - val_loss: 0.2836 - val_accuracy: 0.9355\n",
            "Epoch 148/200\n",
            "70/70 [==============================] - 1s 13ms/step - loss: 0.6313 - accuracy: 0.8166 - val_loss: 0.3295 - val_accuracy: 0.9083\n",
            "Epoch 149/200\n",
            "70/70 [==============================] - 1s 15ms/step - loss: 0.5976 - accuracy: 0.8324 - val_loss: 0.2633 - val_accuracy: 0.9484\n",
            "Epoch 150/200\n",
            "70/70 [==============================] - 1s 19ms/step - loss: 0.5046 - accuracy: 0.8567 - val_loss: 0.2617 - val_accuracy: 0.9470\n",
            "Epoch 151/200\n",
            "70/70 [==============================] - 1s 20ms/step - loss: 0.5081 - accuracy: 0.8696 - val_loss: 0.2479 - val_accuracy: 0.9441\n",
            "Epoch 152/200\n",
            "70/70 [==============================] - 1s 19ms/step - loss: 0.5454 - accuracy: 0.8582 - val_loss: 0.2632 - val_accuracy: 0.9427\n",
            "Epoch 153/200\n",
            "70/70 [==============================] - 1s 15ms/step - loss: 0.5139 - accuracy: 0.8496 - val_loss: 0.2475 - val_accuracy: 0.9427\n",
            "Epoch 154/200\n",
            "70/70 [==============================] - 1s 15ms/step - loss: 0.5998 - accuracy: 0.8424 - val_loss: 0.3445 - val_accuracy: 0.9112\n",
            "Epoch 155/200\n",
            "70/70 [==============================] - 1s 15ms/step - loss: 0.6141 - accuracy: 0.8324 - val_loss: 0.2577 - val_accuracy: 0.9413\n",
            "Epoch 156/200\n",
            "70/70 [==============================] - 1s 13ms/step - loss: 0.4821 - accuracy: 0.8711 - val_loss: 0.2283 - val_accuracy: 0.9513\n",
            "Epoch 157/200\n",
            "70/70 [==============================] - 1s 14ms/step - loss: 0.5475 - accuracy: 0.8596 - val_loss: 0.2416 - val_accuracy: 0.9456\n",
            "Epoch 158/200\n",
            "70/70 [==============================] - 1s 13ms/step - loss: 0.5935 - accuracy: 0.8309 - val_loss: 0.3211 - val_accuracy: 0.9284\n",
            "Epoch 159/200\n",
            "70/70 [==============================] - 1s 13ms/step - loss: 0.5618 - accuracy: 0.8539 - val_loss: 0.2405 - val_accuracy: 0.9542\n",
            "Epoch 160/200\n",
            "70/70 [==============================] - 1s 13ms/step - loss: 0.5525 - accuracy: 0.8381 - val_loss: 0.2292 - val_accuracy: 0.9570\n",
            "Epoch 161/200\n",
            "70/70 [==============================] - 1s 13ms/step - loss: 0.4682 - accuracy: 0.8811 - val_loss: 0.2527 - val_accuracy: 0.9370\n",
            "Epoch 162/200\n",
            "70/70 [==============================] - 1s 14ms/step - loss: 0.5076 - accuracy: 0.8582 - val_loss: 0.2054 - val_accuracy: 0.9642\n",
            "Epoch 163/200\n",
            "70/70 [==============================] - 1s 13ms/step - loss: 0.4677 - accuracy: 0.8782 - val_loss: 0.2702 - val_accuracy: 0.9355\n",
            "Epoch 164/200\n",
            "70/70 [==============================] - 1s 20ms/step - loss: 0.4678 - accuracy: 0.8754 - val_loss: 0.2453 - val_accuracy: 0.9441\n",
            "Epoch 165/200\n",
            "70/70 [==============================] - 1s 19ms/step - loss: 0.4807 - accuracy: 0.8696 - val_loss: 0.2116 - val_accuracy: 0.9542\n",
            "Epoch 166/200\n",
            "70/70 [==============================] - 1s 20ms/step - loss: 0.4010 - accuracy: 0.8940 - val_loss: 0.2207 - val_accuracy: 0.9542\n",
            "Epoch 167/200\n",
            "70/70 [==============================] - 1s 18ms/step - loss: 0.4337 - accuracy: 0.8997 - val_loss: 0.1903 - val_accuracy: 0.9656\n",
            "Epoch 168/200\n",
            "70/70 [==============================] - 1s 13ms/step - loss: 0.4602 - accuracy: 0.8911 - val_loss: 0.2440 - val_accuracy: 0.9470\n",
            "Epoch 169/200\n",
            "70/70 [==============================] - 1s 15ms/step - loss: 0.4630 - accuracy: 0.8668 - val_loss: 0.2151 - val_accuracy: 0.9513\n",
            "Epoch 170/200\n",
            "70/70 [==============================] - 1s 13ms/step - loss: 0.4210 - accuracy: 0.8954 - val_loss: 0.1914 - val_accuracy: 0.9628\n",
            "Epoch 171/200\n",
            "70/70 [==============================] - 1s 15ms/step - loss: 0.5724 - accuracy: 0.8582 - val_loss: 0.2346 - val_accuracy: 0.9441\n",
            "Epoch 172/200\n",
            "70/70 [==============================] - 1s 13ms/step - loss: 0.4081 - accuracy: 0.9026 - val_loss: 0.2278 - val_accuracy: 0.9456\n",
            "Epoch 173/200\n",
            "70/70 [==============================] - 1s 15ms/step - loss: 0.3824 - accuracy: 0.9069 - val_loss: 0.2292 - val_accuracy: 0.9441\n",
            "Epoch 174/200\n",
            "70/70 [==============================] - 1s 15ms/step - loss: 0.4693 - accuracy: 0.8926 - val_loss: 0.1825 - val_accuracy: 0.9642\n",
            "Epoch 175/200\n",
            "70/70 [==============================] - 1s 13ms/step - loss: 0.4662 - accuracy: 0.8997 - val_loss: 0.2125 - val_accuracy: 0.9527\n",
            "Epoch 176/200\n",
            "70/70 [==============================] - 1s 13ms/step - loss: 0.5050 - accuracy: 0.8754 - val_loss: 0.2808 - val_accuracy: 0.9183\n",
            "Epoch 177/200\n",
            "70/70 [==============================] - 1s 16ms/step - loss: 0.4331 - accuracy: 0.8840 - val_loss: 0.2047 - val_accuracy: 0.9527\n",
            "Epoch 178/200\n",
            "70/70 [==============================] - 1s 19ms/step - loss: 0.4229 - accuracy: 0.8854 - val_loss: 0.1928 - val_accuracy: 0.9585\n",
            "Epoch 179/200\n",
            "70/70 [==============================] - 1s 20ms/step - loss: 0.4651 - accuracy: 0.8754 - val_loss: 0.1709 - val_accuracy: 0.9670\n",
            "Epoch 180/200\n",
            "70/70 [==============================] - 1s 21ms/step - loss: 0.3894 - accuracy: 0.8997 - val_loss: 0.1663 - val_accuracy: 0.9685\n",
            "Epoch 181/200\n",
            "70/70 [==============================] - 1s 12ms/step - loss: 0.3927 - accuracy: 0.9112 - val_loss: 0.1718 - val_accuracy: 0.9699\n",
            "Epoch 182/200\n",
            "70/70 [==============================] - 1s 12ms/step - loss: 0.4057 - accuracy: 0.9040 - val_loss: 0.1580 - val_accuracy: 0.9699\n",
            "Epoch 183/200\n",
            "70/70 [==============================] - 1s 13ms/step - loss: 0.4153 - accuracy: 0.8926 - val_loss: 0.2503 - val_accuracy: 0.9413\n",
            "Epoch 184/200\n",
            "70/70 [==============================] - 1s 13ms/step - loss: 0.4599 - accuracy: 0.8868 - val_loss: 0.1908 - val_accuracy: 0.9556\n",
            "Epoch 185/200\n",
            "70/70 [==============================] - 1s 16ms/step - loss: 0.4080 - accuracy: 0.8968 - val_loss: 0.1991 - val_accuracy: 0.9542\n",
            "Epoch 186/200\n",
            "70/70 [==============================] - 1s 13ms/step - loss: 0.4152 - accuracy: 0.9011 - val_loss: 0.2527 - val_accuracy: 0.9398\n",
            "Epoch 187/200\n",
            "70/70 [==============================] - 1s 13ms/step - loss: 0.4171 - accuracy: 0.8782 - val_loss: 0.1683 - val_accuracy: 0.9670\n",
            "Epoch 188/200\n",
            "70/70 [==============================] - 1s 15ms/step - loss: 0.4576 - accuracy: 0.8797 - val_loss: 0.1664 - val_accuracy: 0.9670\n",
            "Epoch 189/200\n",
            "70/70 [==============================] - 1s 13ms/step - loss: 0.4447 - accuracy: 0.8825 - val_loss: 0.1756 - val_accuracy: 0.9613\n",
            "Epoch 190/200\n",
            "70/70 [==============================] - 1s 13ms/step - loss: 0.4895 - accuracy: 0.8725 - val_loss: 0.1908 - val_accuracy: 0.9556\n",
            "Epoch 191/200\n",
            "70/70 [==============================] - 1s 16ms/step - loss: 0.5069 - accuracy: 0.8696 - val_loss: 0.1914 - val_accuracy: 0.9570\n",
            "Epoch 192/200\n",
            "70/70 [==============================] - 1s 19ms/step - loss: 0.3994 - accuracy: 0.8968 - val_loss: 0.1619 - val_accuracy: 0.9699\n",
            "Epoch 193/200\n",
            "70/70 [==============================] - 1s 17ms/step - loss: 0.4211 - accuracy: 0.8926 - val_loss: 0.1954 - val_accuracy: 0.9513\n",
            "Epoch 194/200\n",
            "70/70 [==============================] - 1s 19ms/step - loss: 0.4166 - accuracy: 0.8883 - val_loss: 0.1983 - val_accuracy: 0.9585\n",
            "Epoch 195/200\n",
            "70/70 [==============================] - 1s 14ms/step - loss: 0.4244 - accuracy: 0.8868 - val_loss: 0.1924 - val_accuracy: 0.9499\n",
            "Epoch 196/200\n",
            "70/70 [==============================] - 1s 13ms/step - loss: 0.4716 - accuracy: 0.8868 - val_loss: 0.1712 - val_accuracy: 0.9642\n",
            "Epoch 197/200\n",
            "70/70 [==============================] - 1s 13ms/step - loss: 0.3822 - accuracy: 0.9011 - val_loss: 0.2128 - val_accuracy: 0.9427\n",
            "Epoch 198/200\n",
            "70/70 [==============================] - 1s 13ms/step - loss: 0.4020 - accuracy: 0.9011 - val_loss: 0.1565 - val_accuracy: 0.9642\n",
            "Epoch 199/200\n",
            "70/70 [==============================] - 1s 13ms/step - loss: 0.3766 - accuracy: 0.9226 - val_loss: 0.1275 - val_accuracy: 0.9756\n",
            "Epoch 200/200\n",
            "70/70 [==============================] - 1s 13ms/step - loss: 0.3138 - accuracy: 0.9155 - val_loss: 0.1885 - val_accuracy: 0.9527\n"
          ]
        }
      ],
      "source": [
        "history = model.fit(X_train,y_train, batch_size=10,epochs=200,validation_data=(X_train,y_train),verbose=1)"
      ]
    },
    {
      "cell_type": "code",
      "execution_count": null,
      "metadata": {
        "colab": {
          "base_uri": "https://localhost:8080/"
        },
        "id": "Iu1byEJejnyS",
        "outputId": "fa9e3c37-b13e-4924-99ac-e8194b8b261f"
      },
      "outputs": [
        {
          "output_type": "execute_result",
          "data": {
            "text/plain": [
              "[2.2722198963165283, 0.5933333039283752]"
            ]
          },
          "metadata": {},
          "execution_count": 56
        }
      ],
      "source": [
        "model.evaluate(X_test,y_test,verbose=0)"
      ]
    },
    {
      "cell_type": "code",
      "execution_count": null,
      "metadata": {
        "colab": {
          "base_uri": "https://localhost:8080/",
          "height": 676
        },
        "id": "5RM8owFckLOi",
        "outputId": "1cf7053b-c57f-4b42-c62a-1f8b17fa9aa5"
      },
      "outputs": [
        {
          "output_type": "display_data",
          "data": {
            "text/plain": [
              "<Figure size 1600x800 with 1 Axes>"
            ],
            "image/png": "[encoded data removed]"
          },
          "metadata": {}
        }
      ],
      "source": [
        "pd.DataFrame(history.history).plot(figsize=(16,8))\n",
        "plt.show()"
      ]
    }
  ],
  "metadata": {
    "colab": {
      "provenance": [],
      "mount_file_id": "1DA834komaFzYFLH7RGmlOAakIr5m_rKd",
      "authorship_tag": "ABX9TyPspyHvbsnYVS8qSY24buVt"
    },
    "kernelspec": {
      "display_name": "Python 3",
      "name": "python3"
    },
    "language_info": {
      "name": "python"
    }
  },
  "nbformat": 4,
  "nbformat_minor": 0
}