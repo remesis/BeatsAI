{
  "nbformat": 4,
  "nbformat_minor": 0,
  "metadata": {
    "colab": {
      "provenance": [],
      "mount_file_id": "1YlmwPMfboNS5aHrErlWU8Rhc2Ku26CNi",
      "authorship_tag": "ABX9TyO07ngbOpCJUSlkQGcAegDh"
    },
    "kernelspec": {
      "name": "python3",
      "display_name": "Python 3"
    },
    "language_info": {
      "name": "python"
    }
  },
  "cells": [
    {
      "cell_type": "code",
      "source": [
        "import tensorflow as tf\n",
        "from sklearn.model_selection import train_test_split\n",
        "import tensorflow.keras as keras\n",
        "import os\n",
        "import pandas as pd\n",
        "import numpy as np\n",
        "import json\n",
        "import math\n",
        "import librosa"
      ],
      "metadata": {
        "id": "Vgo-J0D_c65q"
      },
      "execution_count": 12,
      "outputs": []
    },
    {
      "cell_type": "code",
      "source": [
        "model_name = 'cnn_7738_BeatsAI.keras'\n",
        "path = F\"/content/drive/MyDrive/SavedModels/{model_name}\""
      ],
      "metadata": {
        "id": "rSsMDmQNcwSk"
      },
      "execution_count": 1,
      "outputs": []
    },
    {
      "cell_type": "code",
      "source": [
        "dataDir = \"/content/drive/MyDrive/Data/genres_original\"\n",
        "jsonPath = \"/content/drive/MyDrive/Data/data.json\"\n",
        "csvPath = \"/content/drive/MyDrive/Data/features_30_sec.csv\""
      ],
      "metadata": {
        "id": "KxrbUgI3idTF"
      },
      "execution_count": 9,
      "outputs": []
    },
    {
      "cell_type": "code",
      "source": [
        "with open(jsonPath, \"r\") as fp:\n",
        "  data = json.load(fp)\n",
        "\n",
        "X = np.array(data[\"mfcc\"])\n",
        "y = np.array(data[\"labels\"])"
      ],
      "metadata": {
        "id": "_uydHlPmidFK"
      },
      "execution_count": 10,
      "outputs": []
    },
    {
      "cell_type": "code",
      "source": [
        "X_train, X_test, y_train, y_test = train_test_split(X, y, test_size=0.3, random_state=42)"
      ],
      "metadata": {
        "id": "TlZE2kX2jJDx"
      },
      "execution_count": 13,
      "outputs": []
    },
    {
      "cell_type": "code",
      "execution_count": 14,
      "metadata": {
        "id": "Bj7rAcRgb-WB"
      },
      "outputs": [],
      "source": [
        "model = tf.keras.models.load_model(path)"
      ]
    },
    {
      "cell_type": "code",
      "source": [
        "optimizer = keras.optimizers.Adam(learning_rate=0.0001)"
      ],
      "metadata": {
        "id": "Fro_27cYdIBT"
      },
      "execution_count": 16,
      "outputs": []
    },
    {
      "cell_type": "code",
      "source": [
        "model.compile(optimizer=optimizer, loss='sparse_categorical_crossentropy', metrics=['accuracy'])"
      ],
      "metadata": {
        "id": "ZMBWjLrudMoI"
      },
      "execution_count": 17,
      "outputs": []
    },
    {
      "cell_type": "code",
      "source": [
        "model.summary()"
      ],
      "metadata": {
        "colab": {
          "base_uri": "https://localhost:8080/"
        },
        "id": "q4N8sK6FjoaZ",
        "outputId": "6f08a8ee-be8a-44ff-8b6c-ca5e863d4929"
      },
      "execution_count": 18,
      "outputs": [
        {
          "output_type": "stream",
          "name": "stdout",
          "text": [
            "Model: \"sequential_2\"\n",
            "_________________________________________________________________\n",
            " Layer (type)                Output Shape              Param #   \n",
            "=================================================================\n",
            " conv2d_4 (Conv2D)           (None, 128, 11, 32)       320       \n",
            "                                                                 \n",
            " max_pooling2d_4 (MaxPoolin  (None, 64, 6, 32)         0         \n",
            " g2D)                                                            \n",
            "                                                                 \n",
            " batch_normalization (Batch  (None, 64, 6, 32)         128       \n",
            " Normalization)                                                  \n",
            "                                                                 \n",
            " conv2d_5 (Conv2D)           (None, 62, 4, 32)         9248      \n",
            "                                                                 \n",
            " max_pooling2d_5 (MaxPoolin  (None, 31, 2, 32)         0         \n",
            " g2D)                                                            \n",
            "                                                                 \n",
            " batch_normalization_1 (Bat  (None, 31, 2, 32)         128       \n",
            " chNormalization)                                                \n",
            "                                                                 \n",
            " conv2d_6 (Conv2D)           (None, 30, 1, 32)         4128      \n",
            "                                                                 \n",
            " max_pooling2d_6 (MaxPoolin  (None, 15, 1, 32)         0         \n",
            " g2D)                                                            \n",
            "                                                                 \n",
            " batch_normalization_2 (Bat  (None, 15, 1, 32)         128       \n",
            " chNormalization)                                                \n",
            "                                                                 \n",
            " flatten_2 (Flatten)         (None, 480)               0         \n",
            "                                                                 \n",
            " dense_4 (Dense)             (None, 64)                30784     \n",
            "                                                                 \n",
            " dropout (Dropout)           (None, 64)                0         \n",
            "                                                                 \n",
            " dense_5 (Dense)             (None, 10)                650       \n",
            "                                                                 \n",
            "=================================================================\n",
            "Total params: 45514 (177.79 KB)\n",
            "Trainable params: 45322 (177.04 KB)\n",
            "Non-trainable params: 192 (768.00 Byte)\n",
            "_________________________________________________________________\n"
          ]
        }
      ]
    },
    {
      "cell_type": "code",
      "source": [
        "history = model.fit(X_train, y_train, validation_data=(X_test, y_test), batch_size=32, epochs=100)"
      ],
      "metadata": {
        "colab": {
          "base_uri": "https://localhost:8080/"
        },
        "id": "AklEms8ZjrW4",
        "outputId": "f53a73d6-b775-4d06-df8a-f71e367c5361"
      },
      "execution_count": 19,
      "outputs": [
        {
          "output_type": "stream",
          "name": "stdout",
          "text": [
            "Epoch 1/100\n",
            "207/207 [==============================] - 16s 68ms/step - loss: 0.2311 - accuracy: 0.9202 - val_loss: 0.5395 - val_accuracy: 0.8326\n",
            "Epoch 2/100\n",
            "207/207 [==============================] - 13s 65ms/step - loss: 0.2229 - accuracy: 0.9234 - val_loss: 0.5473 - val_accuracy: 0.8386\n",
            "Epoch 3/100\n",
            "207/207 [==============================] - 14s 66ms/step - loss: 0.2182 - accuracy: 0.9263 - val_loss: 0.5366 - val_accuracy: 0.8446\n",
            "Epoch 4/100\n",
            "207/207 [==============================] - 14s 67ms/step - loss: 0.2280 - accuracy: 0.9196 - val_loss: 0.5885 - val_accuracy: 0.8241\n",
            "Epoch 5/100\n",
            "207/207 [==============================] - 13s 65ms/step - loss: 0.2180 - accuracy: 0.9246 - val_loss: 0.5437 - val_accuracy: 0.8425\n",
            "Epoch 6/100\n",
            "207/207 [==============================] - 12s 60ms/step - loss: 0.2104 - accuracy: 0.9305 - val_loss: 0.5238 - val_accuracy: 0.8403\n",
            "Epoch 7/100\n",
            "207/207 [==============================] - 13s 60ms/step - loss: 0.2205 - accuracy: 0.9251 - val_loss: 0.5368 - val_accuracy: 0.8386\n",
            "Epoch 8/100\n",
            "207/207 [==============================] - 14s 66ms/step - loss: 0.1973 - accuracy: 0.9355 - val_loss: 0.5413 - val_accuracy: 0.8463\n",
            "Epoch 9/100\n",
            "207/207 [==============================] - 14s 66ms/step - loss: 0.2095 - accuracy: 0.9308 - val_loss: 0.5828 - val_accuracy: 0.8304\n",
            "Epoch 10/100\n",
            "207/207 [==============================] - 14s 66ms/step - loss: 0.2148 - accuracy: 0.9269 - val_loss: 0.5403 - val_accuracy: 0.8347\n",
            "Epoch 11/100\n",
            "207/207 [==============================] - 14s 66ms/step - loss: 0.1953 - accuracy: 0.9332 - val_loss: 0.5377 - val_accuracy: 0.8421\n",
            "Epoch 12/100\n",
            "207/207 [==============================] - 13s 65ms/step - loss: 0.1946 - accuracy: 0.9332 - val_loss: 0.5412 - val_accuracy: 0.8365\n",
            "Epoch 13/100\n",
            "207/207 [==============================] - 14s 66ms/step - loss: 0.1959 - accuracy: 0.9307 - val_loss: 0.5187 - val_accuracy: 0.8478\n",
            "Epoch 14/100\n",
            "207/207 [==============================] - 13s 65ms/step - loss: 0.1912 - accuracy: 0.9346 - val_loss: 0.5489 - val_accuracy: 0.8340\n",
            "Epoch 15/100\n",
            "207/207 [==============================] - 14s 66ms/step - loss: 0.1916 - accuracy: 0.9358 - val_loss: 0.5905 - val_accuracy: 0.8333\n",
            "Epoch 16/100\n",
            "207/207 [==============================] - 13s 62ms/step - loss: 0.2020 - accuracy: 0.9296 - val_loss: 0.5639 - val_accuracy: 0.8297\n",
            "Epoch 17/100\n",
            "207/207 [==============================] - 14s 67ms/step - loss: 0.1746 - accuracy: 0.9393 - val_loss: 0.5523 - val_accuracy: 0.8386\n",
            "Epoch 18/100\n",
            "207/207 [==============================] - 13s 63ms/step - loss: 0.1951 - accuracy: 0.9323 - val_loss: 0.6192 - val_accuracy: 0.8206\n",
            "Epoch 19/100\n",
            "207/207 [==============================] - 13s 64ms/step - loss: 0.1868 - accuracy: 0.9387 - val_loss: 0.6131 - val_accuracy: 0.8167\n",
            "Epoch 20/100\n",
            "207/207 [==============================] - 14s 67ms/step - loss: 0.1740 - accuracy: 0.9419 - val_loss: 0.5544 - val_accuracy: 0.8340\n",
            "Epoch 21/100\n",
            "207/207 [==============================] - 13s 65ms/step - loss: 0.1790 - accuracy: 0.9373 - val_loss: 0.6622 - val_accuracy: 0.8043\n",
            "Epoch 22/100\n",
            "207/207 [==============================] - 14s 66ms/step - loss: 0.1805 - accuracy: 0.9370 - val_loss: 0.5593 - val_accuracy: 0.8365\n",
            "Epoch 23/100\n",
            "207/207 [==============================] - 14s 66ms/step - loss: 0.1874 - accuracy: 0.9378 - val_loss: 0.5551 - val_accuracy: 0.8386\n",
            "Epoch 24/100\n",
            "207/207 [==============================] - 14s 66ms/step - loss: 0.1711 - accuracy: 0.9416 - val_loss: 0.5808 - val_accuracy: 0.8340\n",
            "Epoch 25/100\n",
            "207/207 [==============================] - 14s 66ms/step - loss: 0.1815 - accuracy: 0.9354 - val_loss: 0.6041 - val_accuracy: 0.8230\n",
            "Epoch 26/100\n",
            "207/207 [==============================] - 14s 69ms/step - loss: 0.1675 - accuracy: 0.9463 - val_loss: 0.5913 - val_accuracy: 0.8312\n",
            "Epoch 27/100\n",
            "207/207 [==============================] - 13s 65ms/step - loss: 0.1679 - accuracy: 0.9405 - val_loss: 0.5859 - val_accuracy: 0.8266\n",
            "Epoch 28/100\n",
            "207/207 [==============================] - 13s 65ms/step - loss: 0.1573 - accuracy: 0.9475 - val_loss: 0.5676 - val_accuracy: 0.8350\n",
            "Epoch 29/100\n",
            "207/207 [==============================] - 13s 64ms/step - loss: 0.1683 - accuracy: 0.9423 - val_loss: 0.5781 - val_accuracy: 0.8375\n",
            "Epoch 30/100\n",
            "207/207 [==============================] - 17s 80ms/step - loss: 0.1572 - accuracy: 0.9458 - val_loss: 0.5676 - val_accuracy: 0.8357\n",
            "Epoch 31/100\n",
            "207/207 [==============================] - 13s 64ms/step - loss: 0.1545 - accuracy: 0.9491 - val_loss: 0.6609 - val_accuracy: 0.8110\n",
            "Epoch 32/100\n",
            "207/207 [==============================] - 12s 60ms/step - loss: 0.1636 - accuracy: 0.9431 - val_loss: 0.5747 - val_accuracy: 0.8410\n",
            "Epoch 33/100\n",
            "207/207 [==============================] - 13s 62ms/step - loss: 0.1525 - accuracy: 0.9479 - val_loss: 0.6820 - val_accuracy: 0.8057\n",
            "Epoch 34/100\n",
            "207/207 [==============================] - 14s 66ms/step - loss: 0.1563 - accuracy: 0.9447 - val_loss: 0.5778 - val_accuracy: 0.8382\n",
            "Epoch 35/100\n",
            "207/207 [==============================] - 13s 64ms/step - loss: 0.1561 - accuracy: 0.9485 - val_loss: 0.6565 - val_accuracy: 0.8142\n",
            "Epoch 36/100\n",
            "207/207 [==============================] - 14s 66ms/step - loss: 0.1541 - accuracy: 0.9502 - val_loss: 0.6686 - val_accuracy: 0.8078\n",
            "Epoch 37/100\n",
            "207/207 [==============================] - 13s 65ms/step - loss: 0.1561 - accuracy: 0.9478 - val_loss: 0.6742 - val_accuracy: 0.8163\n",
            "Epoch 38/100\n",
            "207/207 [==============================] - 14s 66ms/step - loss: 0.1572 - accuracy: 0.9488 - val_loss: 0.5955 - val_accuracy: 0.8276\n",
            "Epoch 39/100\n",
            "207/207 [==============================] - 13s 64ms/step - loss: 0.1431 - accuracy: 0.9516 - val_loss: 0.6604 - val_accuracy: 0.8138\n",
            "Epoch 40/100\n",
            "207/207 [==============================] - 14s 66ms/step - loss: 0.1542 - accuracy: 0.9466 - val_loss: 0.6164 - val_accuracy: 0.8237\n",
            "Epoch 41/100\n",
            "207/207 [==============================] - 13s 64ms/step - loss: 0.1376 - accuracy: 0.9549 - val_loss: 0.5963 - val_accuracy: 0.8287\n",
            "Epoch 42/100\n",
            "207/207 [==============================] - 13s 63ms/step - loss: 0.1357 - accuracy: 0.9538 - val_loss: 0.6494 - val_accuracy: 0.8188\n",
            "Epoch 43/100\n",
            "207/207 [==============================] - 13s 64ms/step - loss: 0.1312 - accuracy: 0.9609 - val_loss: 0.6309 - val_accuracy: 0.8276\n",
            "Epoch 44/100\n",
            "207/207 [==============================] - 12s 60ms/step - loss: 0.1376 - accuracy: 0.9537 - val_loss: 0.6133 - val_accuracy: 0.8304\n",
            "Epoch 45/100\n",
            "207/207 [==============================] - 13s 62ms/step - loss: 0.1402 - accuracy: 0.9528 - val_loss: 0.6096 - val_accuracy: 0.8297\n",
            "Epoch 46/100\n",
            "207/207 [==============================] - 13s 65ms/step - loss: 0.1399 - accuracy: 0.9534 - val_loss: 0.6195 - val_accuracy: 0.8273\n",
            "Epoch 47/100\n",
            "207/207 [==============================] - 14s 66ms/step - loss: 0.1432 - accuracy: 0.9516 - val_loss: 0.6459 - val_accuracy: 0.8230\n",
            "Epoch 48/100\n",
            "207/207 [==============================] - 14s 66ms/step - loss: 0.1314 - accuracy: 0.9558 - val_loss: 0.6276 - val_accuracy: 0.8283\n",
            "Epoch 49/100\n",
            "207/207 [==============================] - 14s 66ms/step - loss: 0.1306 - accuracy: 0.9602 - val_loss: 0.6839 - val_accuracy: 0.8121\n",
            "Epoch 50/100\n",
            "207/207 [==============================] - 14s 66ms/step - loss: 0.1359 - accuracy: 0.9555 - val_loss: 0.6518 - val_accuracy: 0.8188\n",
            "Epoch 51/100\n",
            "207/207 [==============================] - 13s 64ms/step - loss: 0.1313 - accuracy: 0.9553 - val_loss: 0.6399 - val_accuracy: 0.8209\n",
            "Epoch 52/100\n",
            "207/207 [==============================] - 14s 65ms/step - loss: 0.1276 - accuracy: 0.9570 - val_loss: 0.6316 - val_accuracy: 0.8223\n",
            "Epoch 53/100\n",
            "207/207 [==============================] - 13s 64ms/step - loss: 0.1360 - accuracy: 0.9543 - val_loss: 0.6525 - val_accuracy: 0.8223\n",
            "Epoch 54/100\n",
            "207/207 [==============================] - 13s 64ms/step - loss: 0.1196 - accuracy: 0.9596 - val_loss: 0.6365 - val_accuracy: 0.8290\n",
            "Epoch 55/100\n",
            "207/207 [==============================] - 14s 66ms/step - loss: 0.1321 - accuracy: 0.9564 - val_loss: 0.6261 - val_accuracy: 0.8262\n",
            "Epoch 56/100\n",
            "207/207 [==============================] - 13s 63ms/step - loss: 0.1210 - accuracy: 0.9584 - val_loss: 0.7110 - val_accuracy: 0.8061\n",
            "Epoch 57/100\n",
            "207/207 [==============================] - 13s 63ms/step - loss: 0.1306 - accuracy: 0.9525 - val_loss: 0.6615 - val_accuracy: 0.8237\n",
            "Epoch 58/100\n",
            "207/207 [==============================] - 13s 64ms/step - loss: 0.1226 - accuracy: 0.9611 - val_loss: 0.6578 - val_accuracy: 0.8241\n",
            "Epoch 59/100\n",
            "207/207 [==============================] - 14s 67ms/step - loss: 0.1280 - accuracy: 0.9558 - val_loss: 0.6267 - val_accuracy: 0.8304\n",
            "Epoch 60/100\n",
            "207/207 [==============================] - 14s 66ms/step - loss: 0.1223 - accuracy: 0.9602 - val_loss: 0.6395 - val_accuracy: 0.8294\n",
            "Epoch 61/100\n",
            "207/207 [==============================] - 14s 66ms/step - loss: 0.1276 - accuracy: 0.9588 - val_loss: 0.6530 - val_accuracy: 0.8206\n",
            "Epoch 62/100\n",
            "207/207 [==============================] - 14s 67ms/step - loss: 0.1239 - accuracy: 0.9570 - val_loss: 0.6572 - val_accuracy: 0.8234\n",
            "Epoch 63/100\n",
            "207/207 [==============================] - 14s 67ms/step - loss: 0.1262 - accuracy: 0.9555 - val_loss: 0.7750 - val_accuracy: 0.7994\n",
            "Epoch 64/100\n",
            "207/207 [==============================] - 14s 67ms/step - loss: 0.1257 - accuracy: 0.9582 - val_loss: 0.6893 - val_accuracy: 0.8184\n",
            "Epoch 65/100\n",
            "207/207 [==============================] - 15s 71ms/step - loss: 0.1241 - accuracy: 0.9596 - val_loss: 0.6592 - val_accuracy: 0.8206\n",
            "Epoch 66/100\n",
            "207/207 [==============================] - 15s 71ms/step - loss: 0.1171 - accuracy: 0.9594 - val_loss: 0.6777 - val_accuracy: 0.8199\n",
            "Epoch 67/100\n",
            "207/207 [==============================] - 15s 71ms/step - loss: 0.1193 - accuracy: 0.9597 - val_loss: 0.6916 - val_accuracy: 0.8255\n",
            "Epoch 68/100\n",
            "207/207 [==============================] - 14s 68ms/step - loss: 0.1138 - accuracy: 0.9614 - val_loss: 0.6904 - val_accuracy: 0.8146\n",
            "Epoch 69/100\n",
            "207/207 [==============================] - 13s 65ms/step - loss: 0.1107 - accuracy: 0.9612 - val_loss: 0.6807 - val_accuracy: 0.8248\n",
            "Epoch 70/100\n",
            "207/207 [==============================] - 13s 64ms/step - loss: 0.1006 - accuracy: 0.9679 - val_loss: 0.6415 - val_accuracy: 0.8319\n",
            "Epoch 71/100\n",
            "207/207 [==============================] - 13s 63ms/step - loss: 0.1125 - accuracy: 0.9621 - val_loss: 0.6739 - val_accuracy: 0.8234\n",
            "Epoch 72/100\n",
            "207/207 [==============================] - 14s 67ms/step - loss: 0.1128 - accuracy: 0.9623 - val_loss: 0.6704 - val_accuracy: 0.8216\n",
            "Epoch 73/100\n",
            "207/207 [==============================] - 14s 66ms/step - loss: 0.1058 - accuracy: 0.9662 - val_loss: 0.6751 - val_accuracy: 0.8241\n",
            "Epoch 74/100\n",
            "207/207 [==============================] - 13s 65ms/step - loss: 0.1062 - accuracy: 0.9641 - val_loss: 0.7015 - val_accuracy: 0.8153\n",
            "Epoch 75/100\n",
            "207/207 [==============================] - 14s 67ms/step - loss: 0.1080 - accuracy: 0.9650 - val_loss: 0.6819 - val_accuracy: 0.8259\n",
            "Epoch 76/100\n",
            "207/207 [==============================] - 13s 65ms/step - loss: 0.1058 - accuracy: 0.9643 - val_loss: 0.6991 - val_accuracy: 0.8206\n",
            "Epoch 77/100\n",
            "207/207 [==============================] - 14s 67ms/step - loss: 0.1119 - accuracy: 0.9652 - val_loss: 0.7419 - val_accuracy: 0.8103\n",
            "Epoch 78/100\n",
            "207/207 [==============================] - 13s 65ms/step - loss: 0.1008 - accuracy: 0.9673 - val_loss: 0.6868 - val_accuracy: 0.8276\n",
            "Epoch 79/100\n",
            "207/207 [==============================] - 13s 64ms/step - loss: 0.1050 - accuracy: 0.9644 - val_loss: 0.6957 - val_accuracy: 0.8199\n",
            "Epoch 80/100\n",
            "207/207 [==============================] - 13s 61ms/step - loss: 0.1047 - accuracy: 0.9641 - val_loss: 0.7905 - val_accuracy: 0.7891\n",
            "Epoch 81/100\n",
            "207/207 [==============================] - 12s 59ms/step - loss: 0.1147 - accuracy: 0.9605 - val_loss: 0.6924 - val_accuracy: 0.8170\n",
            "Epoch 82/100\n",
            "207/207 [==============================] - 13s 64ms/step - loss: 0.0971 - accuracy: 0.9685 - val_loss: 0.6993 - val_accuracy: 0.8184\n",
            "Epoch 83/100\n",
            "207/207 [==============================] - 14s 66ms/step - loss: 0.0966 - accuracy: 0.9664 - val_loss: 0.7319 - val_accuracy: 0.8124\n",
            "Epoch 84/100\n",
            "207/207 [==============================] - 14s 66ms/step - loss: 0.1071 - accuracy: 0.9621 - val_loss: 0.6641 - val_accuracy: 0.8287\n",
            "Epoch 85/100\n",
            "207/207 [==============================] - 14s 68ms/step - loss: 0.1056 - accuracy: 0.9670 - val_loss: 0.6872 - val_accuracy: 0.8124\n",
            "Epoch 86/100\n",
            "207/207 [==============================] - 14s 66ms/step - loss: 0.1024 - accuracy: 0.9643 - val_loss: 0.7072 - val_accuracy: 0.8163\n",
            "Epoch 87/100\n",
            "207/207 [==============================] - 14s 65ms/step - loss: 0.0923 - accuracy: 0.9667 - val_loss: 0.7136 - val_accuracy: 0.8177\n",
            "Epoch 88/100\n",
            "207/207 [==============================] - 13s 65ms/step - loss: 0.1108 - accuracy: 0.9615 - val_loss: 0.7283 - val_accuracy: 0.8163\n",
            "Epoch 89/100\n",
            "207/207 [==============================] - 14s 66ms/step - loss: 0.0873 - accuracy: 0.9721 - val_loss: 0.7425 - val_accuracy: 0.8138\n",
            "Epoch 90/100\n",
            "207/207 [==============================] - 13s 63ms/step - loss: 0.1047 - accuracy: 0.9637 - val_loss: 0.7038 - val_accuracy: 0.8202\n",
            "Epoch 91/100\n",
            "207/207 [==============================] - 14s 66ms/step - loss: 0.1061 - accuracy: 0.9632 - val_loss: 0.7319 - val_accuracy: 0.8131\n",
            "Epoch 92/100\n",
            "207/207 [==============================] - 14s 68ms/step - loss: 0.0936 - accuracy: 0.9699 - val_loss: 0.7004 - val_accuracy: 0.8167\n",
            "Epoch 93/100\n",
            "207/207 [==============================] - 14s 66ms/step - loss: 0.0966 - accuracy: 0.9674 - val_loss: 0.7651 - val_accuracy: 0.8085\n",
            "Epoch 94/100\n",
            "207/207 [==============================] - 13s 64ms/step - loss: 0.0911 - accuracy: 0.9705 - val_loss: 0.7494 - val_accuracy: 0.8050\n",
            "Epoch 95/100\n",
            "207/207 [==============================] - 13s 64ms/step - loss: 0.0910 - accuracy: 0.9694 - val_loss: 0.8421 - val_accuracy: 0.7930\n",
            "Epoch 96/100\n",
            "207/207 [==============================] - 14s 66ms/step - loss: 0.0976 - accuracy: 0.9684 - val_loss: 0.7213 - val_accuracy: 0.8191\n",
            "Epoch 97/100\n",
            "207/207 [==============================] - 13s 65ms/step - loss: 0.0980 - accuracy: 0.9671 - val_loss: 0.7576 - val_accuracy: 0.8089\n",
            "Epoch 98/100\n",
            "207/207 [==============================] - 14s 67ms/step - loss: 0.0954 - accuracy: 0.9653 - val_loss: 0.7297 - val_accuracy: 0.8107\n",
            "Epoch 99/100\n",
            "207/207 [==============================] - 14s 67ms/step - loss: 0.0959 - accuracy: 0.9679 - val_loss: 0.7192 - val_accuracy: 0.8184\n",
            "Epoch 100/100\n",
            "207/207 [==============================] - 14s 68ms/step - loss: 0.0850 - accuracy: 0.9717 - val_loss: 0.7452 - val_accuracy: 0.8146\n"
          ]
        }
      ]
    },
    {
      "cell_type": "code",
      "source": [
        "model.evaluate(X_test,y_test,verbose=0)"
      ],
      "metadata": {
        "colab": {
          "base_uri": "https://localhost:8080/"
        },
        "id": "wyvyyikJjvab",
        "outputId": "84cd4909-3fbe-4aac-bcf3-12f5a5851dd9"
      },
      "execution_count": 20,
      "outputs": [
        {
          "output_type": "execute_result",
          "data": {
            "text/plain": [
              "[0.7451804876327515, 0.8145531415939331]"
            ]
          },
          "metadata": {},
          "execution_count": 20
        }
      ]
    },
    {
      "cell_type": "code",
      "source": [
        "eval = model.evaluate(X_test,y_test,verbose=0)"
      ],
      "metadata": {
        "id": "TaRqu5ewryPk"
      },
      "execution_count": 21,
      "outputs": []
    },
    {
      "cell_type": "code",
      "source": [
        "print(f\"Accuracy: {eval[1] * 100}%\")"
      ],
      "metadata": {
        "colab": {
          "base_uri": "https://localhost:8080/"
        },
        "id": "UqXF7XLPpyk6",
        "outputId": "9b76f18c-709e-4e3b-c231-38e9d8897b79"
      },
      "execution_count": 23,
      "outputs": [
        {
          "output_type": "stream",
          "name": "stdout",
          "text": [
            "Accuracy: 81.45531415939331%\n"
          ]
        }
      ]
    },
    {
      "cell_type": "code",
      "source": [],
      "metadata": {
        "id": "Y9MlBFWOr6p6"
      },
      "execution_count": null,
      "outputs": []
    }
  ]
}